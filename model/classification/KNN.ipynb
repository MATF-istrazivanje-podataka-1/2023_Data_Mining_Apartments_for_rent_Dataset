{
 "cells": [
  {
   "cell_type": "markdown",
   "id": "82917f64-f2d9-4a90-8cab-ba31bd82a083",
   "metadata": {},
   "source": [
    "Ovo je prvi pokusaj KNN algoritma"
   ]
  },
  {
   "cell_type": "code",
   "execution_count": 1,
   "id": "3eda9ac2-35d1-4b42-a6d9-826841b12dd2",
   "metadata": {},
   "outputs": [],
   "source": [
    "import numpy as np\n",
    "import pandas as pd\n",
    "import matplotlib.pyplot as plt\n",
    "\n",
    "import os"
   ]
  },
  {
   "cell_type": "code",
   "execution_count": 2,
   "id": "6f076da1-1c78-4203-8463-3cdc1483c65a",
   "metadata": {},
   "outputs": [],
   "source": [
    "df = pd.read_csv('../../preprocessing/apartments_preprocessed.csv')"
   ]
  },
  {
   "cell_type": "code",
   "execution_count": 3,
   "id": "394db702-2108-4c48-9b53-a6de19f94f43",
   "metadata": {},
   "outputs": [
    {
     "data": {
      "text/plain": [
       "count     9922.000000\n",
       "mean      1481.016831\n",
       "std        948.711174\n",
       "min        200.000000\n",
       "25%        949.000000\n",
       "50%       1270.000000\n",
       "75%       1695.000000\n",
       "max      25000.000000\n",
       "Name: price, dtype: float64"
      ]
     },
     "execution_count": 3,
     "metadata": {},
     "output_type": "execute_result"
    }
   ],
   "source": [
    "df.head()\n",
    "df['price'].describe()"
   ]
  },
  {
   "cell_type": "code",
   "execution_count": 4,
   "id": "82e12477-79cb-4fe3-9adc-7f8d64688a18",
   "metadata": {},
   "outputs": [],
   "source": [
    "from sklearn.model_selection import train_test_split"
   ]
  },
  {
   "cell_type": "markdown",
   "id": "ccce747f-1ba2-49bd-a9e6-e048efed943c",
   "metadata": {},
   "source": [
    "KNN je algoritam koji koristi mere bliskosti da bi klasifikovao instance. Ono sto ja zelim je da procenim cenu apartmana, ali tako sto cu objekte kategorisati:\n",
    "1. Cheap/Affordable: [200, 400)\n",
    "2. Medium priced: [400,800)\n",
    "3. Expensive: [800,+)"
   ]
  },
  {
   "cell_type": "code",
   "execution_count": 5,
   "id": "9867698e-5fb8-4076-8ce9-e1086b9747ee",
   "metadata": {},
   "outputs": [],
   "source": [
    "# Pretpostavljamo da je df vaš DataFrame sa atributom \"price\"\n",
    "binovi = [199, 1000, 1500, float('inf')]  # Definisanje granica binova\n",
    "ime_kategorija = ['Cheap/Affordable', 'Medium priced', 'Expensive']\n",
    "\n",
    "df['price_category'] = pd.cut(df['price'], bins=binovi, labels=ime_kategorija, right=True)\n"
   ]
  },
  {
   "cell_type": "code",
   "execution_count": 6,
   "id": "2e6e0731-aba1-4b5b-88ff-64afe8c1fa00",
   "metadata": {},
   "outputs": [
    {
     "data": {
      "image/png": "[encoded data removed]",
      "text/plain": [
       "<Figure size 640x480 with 1 Axes>"
      ]
     },
     "metadata": {},
     "output_type": "display_data"
    }
   ],
   "source": [
    "# Grupisanje po kategorijama i brojanje pojavljivanja\n",
    "broj_pojavljivanja = df['price_category'].value_counts()\n",
    "\n",
    "# Prikazivanje podataka na bar plot-u\n",
    "broj_pojavljivanja.plot(kind='bar')\n",
    "plt.xlabel('Cena kategorija')\n",
    "plt.ylabel('Broj apartmana')\n",
    "plt.title('Raspodela cena apartmana')\n",
    "plt.show()"
   ]
  },
  {
   "cell_type": "code",
   "execution_count": 7,
   "id": "3e7e2f34-f308-478c-a361-a8f6146d23a9",
   "metadata": {},
   "outputs": [
    {
     "data": {
      "text/plain": [
       "price_category\n",
       "Medium priced       3528\n",
       "Expensive           3348\n",
       "Cheap/Affordable    3046\n",
       "Name: count, dtype: int64"
      ]
     },
     "execution_count": 7,
     "metadata": {},
     "output_type": "execute_result"
    }
   ],
   "source": [
    "df['price_category'].value_counts()"
   ]
  },
  {
   "cell_type": "markdown",
   "id": "118f8437-6496-4f80-b86a-60fb0deea58a",
   "metadata": {},
   "source": [
    "Ovo je najbolja raspodela koju sam uspela da napravim, a da su kategorije priblizno jednake. bilo je 199, 1000, 1500"
   ]
  },
  {
   "cell_type": "code",
   "execution_count": 8,
   "id": "f4519b36-4cb0-472c-8a83-00f2aa9a1288",
   "metadata": {},
   "outputs": [
    {
     "data": {
      "text/plain": [
       "bathrooms         0\n",
       "bedrooms          0\n",
       "price             0\n",
       "square_meters     0\n",
       "cityname          0\n",
       "state             0\n",
       "latitude          0\n",
       "longitude         0\n",
       "source            0\n",
       "luxury            0\n",
       "price_category    0\n",
       "dtype: int64"
      ]
     },
     "execution_count": 8,
     "metadata": {},
     "output_type": "execute_result"
    }
   ],
   "source": [
    "df.isna().sum()"
   ]
  },
  {
   "cell_type": "code",
   "execution_count": 9,
   "id": "f037e5f9-6e7f-438a-a7b4-c190821d20ec",
   "metadata": {},
   "outputs": [
    {
     "name": "stdout",
     "output_type": "stream",
     "text": [
      "Veličina X_train: (7937, 4)\n",
      "Veličina X_test: (1985, 4)\n",
      "Veličina y_train: (7937,)\n",
      "Veličina y_test: (1985,)\n"
     ]
    }
   ],
   "source": [
    "from sklearn.model_selection import train_test_split\n",
    "\n",
    "# Split the dataset into features and target\n",
    "X = df[['square_meters','luxury','longitude','latitude']] # Features\n",
    "y = df['price_category'] # Target: price\n",
    "\n",
    "# Splitting the data into testing and training sets\n",
    "X_train, X_test, y_train, y_test = train_test_split(X, y, test_size=0.2, stratify=y,random_state=41)\n",
    "# Ispis informacija o veličini trening i test skupa\n",
    "print(\"Veličina X_train:\", X_train.shape)\n",
    "print(\"Veličina X_test:\", X_test.shape)\n",
    "print(\"Veličina y_train:\", y_train.shape)\n",
    "print(\"Veličina y_test:\", y_test.shape)"
   ]
  },
  {
   "cell_type": "code",
   "execution_count": 10,
   "id": "c2927bea-f4f6-4218-924e-fcf3d0e2b779",
   "metadata": {},
   "outputs": [
    {
     "data": {
      "text/plain": [
       "5091           Expensive\n",
       "5856    Cheap/Affordable\n",
       "7832           Expensive\n",
       "3871       Medium priced\n",
       "753            Expensive\n",
       "              ...       \n",
       "1199           Expensive\n",
       "514            Expensive\n",
       "2417       Medium priced\n",
       "4326       Medium priced\n",
       "6426           Expensive\n",
       "Name: price_category, Length: 7937, dtype: category\n",
       "Categories (3, object): ['Cheap/Affordable' < 'Medium priced' < 'Expensive']"
      ]
     },
     "execution_count": 10,
     "metadata": {},
     "output_type": "execute_result"
    }
   ],
   "source": [
    "y_train"
   ]
  },
  {
   "cell_type": "markdown",
   "id": "c5791e4b-e705-46c8-81e1-5672b146af87",
   "metadata": {},
   "source": [
    "Za atribute 'bathrooms', 'bedrooms', 'square_meters' potrebno je racunati euklidsku udaljenost, ali za udaljenost po preciznoj lokaciji nam je potrebna drugacija funkcija. Za racunanje rastojanja na Zemlji koristi se posebna haversine distanca (source: stackoverflow). Tako da za prva tri atributa udaljenost biti racunata uz pomoc euklidskog, a za poslednja dva uz pomoc haversine rastojanja"
   ]
  },
  {
   "cell_type": "code",
   "execution_count": 11,
   "id": "1e8f5eeb-481f-40a7-8fc4-583956a46e5f",
   "metadata": {},
   "outputs": [],
   "source": [
    "from math import radians, sin, cos, sqrt, atan2\n",
    "def haversine_distance(coord1, coord2):\n",
    "    lat1, lon1 = coord1\n",
    "    lat2, lon2 = coord2\n",
    "    R = 6371  # Prosečni poluprečnik Zemlje u kilometrima\n",
    "    dlat = radians(lat2 - lat1)\n",
    "    dlon = radians(lon2 - lon1)\n",
    "    a = sin(dlat / 2)**2 + cos(radians(lat1)) * cos(radians(lat2)) * sin(dlon / 2)**2\n",
    "    c = 2 * atan2(sqrt(a), sqrt(1 - a))\n",
    "    distance = R * c\n",
    "    return distance"
   ]
  },
  {
   "cell_type": "code",
   "execution_count": 12,
   "id": "0bb67e60-2a79-488c-ad9a-88ebdb57e143",
   "metadata": {},
   "outputs": [],
   "source": [
    "def custom_distance(x, y):\n",
    "    euc_distance = np.sqrt(np.sum((x[:2] - y[:2])**2))  # Euklidska udaljenost za prva četiri atributa\n",
    "    haversine_dist = haversine_distance((x[2], x[3]), (y[2], y[3]))  # Haversine udaljenost za longitude i latitude\n",
    "    total_distance = np.sqrt(euc_distance**2 + haversine_dist**2)\n",
    "    return total_distance"
   ]
  },
  {
   "cell_type": "code",
   "execution_count": null,
   "id": "723f5847-9987-4f66-b2b1-7febc093594c",
   "metadata": {},
   "outputs": [],
   "source": []
  },
  {
   "cell_type": "code",
   "execution_count": 13,
   "id": "46be5cbf-6285-4244-b389-172d750d41ad",
   "metadata": {},
   "outputs": [],
   "source": [
    "from sklearn.preprocessing import MinMaxScaler\n",
    "scaler = MinMaxScaler()\n",
    "scaler.fit(X_train)\n",
    "X_train = scaler.transform(X_train)\n",
    "X_test = scaler.transform(X_test)"
   ]
  },
  {
   "cell_type": "code",
   "execution_count": 14,
   "id": "b8f0e1f4-b511-4284-8d27-e246f8667241",
   "metadata": {},
   "outputs": [],
   "source": [
    "from sklearn.neighbors import KNeighborsClassifier \n",
    "from sklearn.metrics import classification_report\n",
    "from termcolor import colored\n",
    "\n",
    "def report(model, x, y, text = \"training\"):\n",
    "    y_pred = model.predict(x)\n",
    "    \n",
    "    print(colored(\"Classification report for model {} on {} data\".format(type(model).__name__, text), \"green\"))\n",
    "    print(\"---------------------------------------------------------------------------------\")\n",
    "    print(classification_report(y, y_pred, zero_division=True))"
   ]
  },
  {
   "cell_type": "code",
   "execution_count": 15,
   "id": "8c135097-711b-4e53-a085-8d85e1318e3f",
   "metadata": {},
   "outputs": [
    {
     "data": {
      "text/html": [
       "<style>#sk-container-id-1 {color: black;}#sk-container-id-1 pre{padding: 0;}#sk-container-id-1 div.sk-toggleable {background-color: white;}#sk-container-id-1 label.sk-toggleable__label {cursor: pointer;display: block;width: 100%;margin-bottom: 0;padding: 0.3em;box-sizing: border-box;text-align: center;}#sk-container-id-1 label.sk-toggleable__label-arrow:before {content: \"▸\";float: left;margin-right: 0.25em;color: #696969;}#sk-container-id-1 label.sk-toggleable__label-arrow:hover:before {color: black;}#sk-container-id-1 div.sk-estimator:hover label.sk-toggleable__label-arrow:before {color: black;}#sk-container-id-1 div.sk-toggleable__content {max-height: 0;max-width: 0;overflow: hidden;text-align: left;background-color: #f0f8ff;}#sk-container-id-1 div.sk-toggleable__content pre {margin: 0.2em;color: black;border-radius: 0.25em;background-color: #f0f8ff;}#sk-container-id-1 input.sk-toggleable__control:checked~div.sk-toggleable__content {max-height: 200px;max-width: 100%;overflow: auto;}#sk-container-id-1 input.sk-toggleable__control:checked~label.sk-toggleable__label-arrow:before {content: \"▾\";}#sk-container-id-1 div.sk-estimator input.sk-toggleable__control:checked~label.sk-toggleable__label {background-color: #d4ebff;}#sk-container-id-1 div.sk-label input.sk-toggleable__control:checked~label.sk-toggleable__label {background-color: #d4ebff;}#sk-container-id-1 input.sk-hidden--visually {border: 0;clip: rect(1px 1px 1px 1px);clip: rect(1px, 1px, 1px, 1px);height: 1px;margin: -1px;overflow: hidden;padding: 0;position: absolute;width: 1px;}#sk-container-id-1 div.sk-estimator {font-family: monospace;background-color: #f0f8ff;border: 1px dotted black;border-radius: 0.25em;box-sizing: border-box;margin-bottom: 0.5em;}#sk-container-id-1 div.sk-estimator:hover {background-color: #d4ebff;}#sk-container-id-1 div.sk-parallel-item::after {content: \"\";width: 100%;border-bottom: 1px solid gray;flex-grow: 1;}#sk-container-id-1 div.sk-label:hover label.sk-toggleable__label {background-color: #d4ebff;}#sk-container-id-1 div.sk-serial::before {content: \"\";position: absolute;border-left: 1px solid gray;box-sizing: border-box;top: 0;bottom: 0;left: 50%;z-index: 0;}#sk-container-id-1 div.sk-serial {display: flex;flex-direction: column;align-items: center;background-color: white;padding-right: 0.2em;padding-left: 0.2em;position: relative;}#sk-container-id-1 div.sk-item {position: relative;z-index: 1;}#sk-container-id-1 div.sk-parallel {display: flex;align-items: stretch;justify-content: center;background-color: white;position: relative;}#sk-container-id-1 div.sk-item::before, #sk-container-id-1 div.sk-parallel-item::before {content: \"\";position: absolute;border-left: 1px solid gray;box-sizing: border-box;top: 0;bottom: 0;left: 50%;z-index: -1;}#sk-container-id-1 div.sk-parallel-item {display: flex;flex-direction: column;z-index: 1;position: relative;background-color: white;}#sk-container-id-1 div.sk-parallel-item:first-child::after {align-self: flex-end;width: 50%;}#sk-container-id-1 div.sk-parallel-item:last-child::after {align-self: flex-start;width: 50%;}#sk-container-id-1 div.sk-parallel-item:only-child::after {width: 0;}#sk-container-id-1 div.sk-dashed-wrapped {border: 1px dashed gray;margin: 0 0.4em 0.5em 0.4em;box-sizing: border-box;padding-bottom: 0.4em;background-color: white;}#sk-container-id-1 div.sk-label label {font-family: monospace;font-weight: bold;display: inline-block;line-height: 1.2em;}#sk-container-id-1 div.sk-label-container {text-align: center;}#sk-container-id-1 div.sk-container {/* jupyter's `normalize.less` sets `[hidden] { display: none; }` but bootstrap.min.css set `[hidden] { display: none !important; }` so we also need the `!important` here to be able to override the default hidden behavior on the sphinx rendered scikit-learn.org. See: https://github.com/scikit-learn/scikit-learn/issues/21755 */display: inline-block !important;position: relative;}#sk-container-id-1 div.sk-text-repr-fallback {display: none;}</style><div id=\"sk-container-id-1\" class=\"sk-top-container\"><div class=\"sk-text-repr-fallback\"><pre>KNeighborsClassifier(metric=&lt;function custom_distance at 0x7fe56122d900&gt;)</pre><b>In a Jupyter environment, please rerun this cell to show the HTML representation or trust the notebook. <br />On GitHub, the HTML representation is unable to render, please try loading this page with nbviewer.org.</b></div><div class=\"sk-container\" hidden><div class=\"sk-item\"><div class=\"sk-estimator sk-toggleable\"><input class=\"sk-toggleable__control sk-hidden--visually\" id=\"sk-estimator-id-1\" type=\"checkbox\" checked><label for=\"sk-estimator-id-1\" class=\"sk-toggleable__label sk-toggleable__label-arrow\">KNeighborsClassifier</label><div class=\"sk-toggleable__content\"><pre>KNeighborsClassifier(metric=&lt;function custom_distance at 0x7fe56122d900&gt;)</pre></div></div></div></div></div>"
      ],
      "text/plain": [
       "KNeighborsClassifier(metric=<function custom_distance at 0x7fe56122d900>)"
      ]
     },
     "execution_count": 15,
     "metadata": {},
     "output_type": "execute_result"
    }
   ],
   "source": [
    "from sklearn.neighbors import KNeighborsClassifier \n",
    "knn = KNeighborsClassifier(metric=custom_distance)\n",
    "knn.fit(X_train, y_train) # treninranje modela"
   ]
  },
  {
   "cell_type": "code",
   "execution_count": 16,
   "id": "d9b6f90f-8911-487d-b0d2-98dab7cdc410",
   "metadata": {},
   "outputs": [
    {
     "name": "stdout",
     "output_type": "stream",
     "text": [
      "\u001b[32mClassification report for model KNeighborsClassifier on training data\u001b[0m\n",
      "---------------------------------------------------------------------------------\n",
      "                  precision    recall  f1-score   support\n",
      "\n",
      "Cheap/Affordable       0.74      0.82      0.78      2437\n",
      "       Expensive       0.82      0.81      0.81      2678\n",
      "   Medium priced       0.73      0.67      0.70      2822\n",
      "\n",
      "        accuracy                           0.76      7937\n",
      "       macro avg       0.76      0.77      0.76      7937\n",
      "    weighted avg       0.76      0.76      0.76      7937\n",
      "\n"
     ]
    }
   ],
   "source": [
    "\n",
    "\n",
    "# Predicting results \n",
    "Y_pred = knn.predict(X_test)\n",
    "\n",
    "# Evaluating the KNN model\n",
    "report(knn, X_train, y_train)\n",
    "\n"
   ]
  },
  {
   "cell_type": "code",
   "execution_count": 17,
   "id": "9750baa1-84ff-48eb-9e1c-37690a37a60a",
   "metadata": {},
   "outputs": [
    {
     "name": "stdout",
     "output_type": "stream",
     "text": [
      "\u001b[32mClassification report for model KNeighborsClassifier on test data\u001b[0m\n",
      "---------------------------------------------------------------------------------\n",
      "                  precision    recall  f1-score   support\n",
      "\n",
      "Cheap/Affordable       0.65      0.72      0.68       609\n",
      "       Expensive       0.75      0.71      0.73       670\n",
      "   Medium priced       0.61      0.59      0.60       706\n",
      "\n",
      "        accuracy                           0.67      1985\n",
      "       macro avg       0.67      0.67      0.67      1985\n",
      "    weighted avg       0.67      0.67      0.67      1985\n",
      "\n"
     ]
    }
   ],
   "source": [
    "report(knn, X_test, y_test, \"test\")"
   ]
  },
  {
   "cell_type": "markdown",
   "id": "32d4562d-d338-4904-8106-07fbae7c157d",
   "metadata": {},
   "source": [
    "Izvestaj:  \n",
    "Tacnost modela na trening skupu je 0.77, dok je na test skupu nesto manja, 0.68  \n",
    "Model nije sjajan, solidan je, ali ima mali problem pri generalizaciji, sto zahteva eksperimentisanje sa parametrima.  \n",
    "\n",
    "1. Preciznost <br>\n",
    "Na treningu, 74% instanci koje su klasifikovane kao 'Cheap/Affordable' zaista pripadaju toj klasi, dok je na test skupu taj procenat za 7 manji. Slicno vazi i za klasu 'Expensive'. Model je najvise problema imao sa klasom 'Medium priced', koja buhvata najmanji raspon cena (500 dolara, za razliku od prve i trece klase koje imaju raspon, redom, 800 i neverovatnih 10000 (zbog luksuznih vila koje se nalaze u bazi).\n",
    "2. Odziv (Recall) <br>\n",
    "Ova vrednost pokazuje da je na treningu, model predvideo 79% 'Cheap/Affordable' apartmana od ukupnog broja 'Cheap/Affordable' apartmana. Slicno vazi i za klase 'Medium priced' i 'Expencive', sa vrednostima 69% i 81%. Razlika u odnosu na test skup je ponovo oko 10 procenata, i ponovo se najlosije pokazao na kategoriji srednjih cena.\n",
    "3. F1-score <br>\n",
    "F1-score je mera koja kombinuje preciznost (precision) i odziv (recall) modela i pruža informacije o ravnoteži između tačno pozitivnih i lažno pozitivnih predikcija, kao i tačno pozitivnih i lažno negativnih predikcija. U svim klasama je negde oko 70%, sto je zadovoljavajuc balans, ali ima prostora za napredak. "
   ]
  },
  {
   "cell_type": "code",
   "execution_count": 18,
   "id": "27074cf5-b566-4e72-81dc-bd1ae244c308",
   "metadata": {},
   "outputs": [
    {
     "data": {
      "image/png": "[encoded data removed]",
      "text/plain": [
       "<Figure size 640x480 with 2 Axes>"
      ]
     },
     "metadata": {},
     "output_type": "display_data"
    }
   ],
   "source": [
    "from sklearn.metrics import confusion_matrix\n",
    "import seaborn as sns\n",
    "import matplotlib.pyplot as plt\n",
    "\n",
    "# Generate confusion matrix\n",
    "cm = confusion_matrix(y_test, Y_pred, labels=ime_kategorija)\n",
    "\n",
    "# Create a heatmap for the confusion matrix\n",
    "sns.heatmap(cm, annot=True, fmt='d', cmap='YlOrRd',\n",
    "            xticklabels=ime_kategorija, yticklabels=ime_kategorija)\n",
    "\n",
    "plt.xlabel('Predicted')\n",
    "plt.ylabel('True')\n",
    "plt.title('Confusion Matrix')\n",
    "plt.show()"
   ]
  },
  {
   "cell_type": "markdown",
   "id": "55a155fb-0448-4312-82bb-5795db790b33",
   "metadata": {},
   "source": [
    "Pozeljno je da vrednosti na dijagonali matrice konfuzije budu sto vece, odnosno na konkretnom primeru, da polja na dijagonali budu sto tamnija. Ova matrica je zadovoljavajuca. <br>\n",
    "Interpretacija rezultata:\n",
    "\n",
    "Cheap/Affordable:\n",
    "\n",
    "    445 uzoraka su tacno predvidjeni kao Cheap/Affordable\n",
    "    129 uzoraka su bili predvidjeni kao Medium priced, a zapravo su Cheap/Affordable\n",
    "    35 uzoraka su bili predvidjeni kao Expensive, a zapravo su Cheap/Affordable\n",
    "\n",
    "Medium priced:\n",
    "\n",
    "    419 uzoraka su tacno predvidjeni kao Medium priced\n",
    "    175 uzoraka su bili predvidjeni kao Cheap/Affordable, a zapravo su Medium priced\n",
    "    112 uzoraka su bili predvidjeni kao Expensive, a zapravo su Medium priced\n",
    "\n",
    "Expensive:\n",
    "\n",
    "    490 uzoraka su tacno predvidjeni kao Expensive\n",
    "    132 uzoraka su bili predvidjeni kao Medium priced, a zapravo su Expensive\n",
    "    48 uzoraka su bili predvidjeni kao Cheap/Affordable, a zapravo su Expensive\n"
   ]
  },
  {
   "cell_type": "markdown",
   "id": "f4b92675-7f1c-4f1a-bda0-233f6c4ceec5",
   "metadata": {},
   "source": [
    "# Optimizacija: GridSearchCV"
   ]
  },
  {
   "cell_type": "code",
   "execution_count": 19,
   "id": "f4e45231-ca62-4742-8b54-c546bcaf8f33",
   "metadata": {},
   "outputs": [],
   "source": [
    "# The grid search will also try different values of the maximum depth of the decision tree (2, 4, 6, 8)\n",
    "params = {'criterion': ['gini', 'entropy'], \n",
    "          'max_depth': [2,4,6,8]\n",
    "         }\n",
    "\n",
    "params_grid = {'n_neighbors': range(5, 50, 5),\n",
    "               'weights': ['uniform','distance'],\n",
    "                'p': [1, 2]}"
   ]
  },
  {
   "cell_type": "code",
   "execution_count": 20,
   "id": "c1910b36-6809-4fc4-b4f2-6aaaf5358114",
   "metadata": {},
   "outputs": [
    {
     "name": "stdout",
     "output_type": "stream",
     "text": [
      "Fitting 4 folds for each of 36 candidates, totalling 144 fits\n",
      "[CV 1/4] END n_neighbors=5, p=1, weights=uniform;, score=0.669 total time=   0.2s\n",
      "[CV 2/4] END n_neighbors=5, p=1, weights=uniform;, score=0.681 total time=   0.2s\n",
      "[CV 3/4] END n_neighbors=5, p=1, weights=uniform;, score=0.666 total time=   0.2s\n",
      "[CV 4/4] END n_neighbors=5, p=1, weights=uniform;, score=0.676 total time=   0.2s\n",
      "[CV 1/4] END n_neighbors=5, p=1, weights=distance;, score=0.693 total time=   0.0s\n",
      "[CV 2/4] END n_neighbors=5, p=1, weights=distance;, score=0.705 total time=   0.0s\n",
      "[CV 3/4] END n_neighbors=5, p=1, weights=distance;, score=0.685 total time=   0.0s\n",
      "[CV 4/4] END n_neighbors=5, p=1, weights=distance;, score=0.691 total time=   0.0s\n",
      "[CV 1/4] END n_neighbors=5, p=2, weights=uniform;, score=0.669 total time=   0.2s\n",
      "[CV 2/4] END n_neighbors=5, p=2, weights=uniform;, score=0.674 total time=   0.1s\n",
      "[CV 3/4] END n_neighbors=5, p=2, weights=uniform;, score=0.674 total time=   0.1s\n",
      "[CV 4/4] END n_neighbors=5, p=2, weights=uniform;, score=0.675 total time=   0.2s\n",
      "[CV 1/4] END n_neighbors=5, p=2, weights=distance;, score=0.693 total time=   0.0s\n",
      "[CV 2/4] END n_neighbors=5, p=2, weights=distance;, score=0.697 total time=   0.0s\n",
      "[CV 3/4] END n_neighbors=5, p=2, weights=distance;, score=0.683 total time=   0.0s\n",
      "[CV 4/4] END n_neighbors=5, p=2, weights=distance;, score=0.691 total time=   0.0s\n",
      "[CV 1/4] END n_neighbors=10, p=1, weights=uniform;, score=0.679 total time=   0.2s\n",
      "[CV 2/4] END n_neighbors=10, p=1, weights=uniform;, score=0.673 total time=   0.2s\n",
      "[CV 3/4] END n_neighbors=10, p=1, weights=uniform;, score=0.681 total time=   0.2s\n",
      "[CV 4/4] END n_neighbors=10, p=1, weights=uniform;, score=0.671 total time=   0.2s\n",
      "[CV 1/4] END n_neighbors=10, p=1, weights=distance;, score=0.716 total time=   0.1s\n",
      "[CV 2/4] END n_neighbors=10, p=1, weights=distance;, score=0.703 total time=   0.1s\n",
      "[CV 3/4] END n_neighbors=10, p=1, weights=distance;, score=0.691 total time=   0.0s\n",
      "[CV 4/4] END n_neighbors=10, p=1, weights=distance;, score=0.684 total time=   0.0s\n",
      "[CV 1/4] END n_neighbors=10, p=2, weights=uniform;, score=0.679 total time=   0.1s\n",
      "[CV 2/4] END n_neighbors=10, p=2, weights=uniform;, score=0.673 total time=   0.1s\n",
      "[CV 3/4] END n_neighbors=10, p=2, weights=uniform;, score=0.691 total time=   0.1s\n",
      "[CV 4/4] END n_neighbors=10, p=2, weights=uniform;, score=0.667 total time=   0.1s\n",
      "[CV 1/4] END n_neighbors=10, p=2, weights=distance;, score=0.709 total time=   0.0s\n",
      "[CV 2/4] END n_neighbors=10, p=2, weights=distance;, score=0.695 total time=   0.0s\n",
      "[CV 3/4] END n_neighbors=10, p=2, weights=distance;, score=0.694 total time=   0.0s\n",
      "[CV 4/4] END n_neighbors=10, p=2, weights=distance;, score=0.688 total time=   0.0s\n",
      "[CV 1/4] END n_neighbors=15, p=1, weights=uniform;, score=0.680 total time=   0.2s\n",
      "[CV 2/4] END n_neighbors=15, p=1, weights=uniform;, score=0.667 total time=   0.2s\n",
      "[CV 3/4] END n_neighbors=15, p=1, weights=uniform;, score=0.682 total time=   0.1s\n",
      "[CV 4/4] END n_neighbors=15, p=1, weights=uniform;, score=0.671 total time=   0.1s\n",
      "[CV 1/4] END n_neighbors=15, p=1, weights=distance;, score=0.712 total time=   0.0s\n",
      "[CV 2/4] END n_neighbors=15, p=1, weights=distance;, score=0.702 total time=   0.0s\n",
      "[CV 3/4] END n_neighbors=15, p=1, weights=distance;, score=0.696 total time=   0.0s\n",
      "[CV 4/4] END n_neighbors=15, p=1, weights=distance;, score=0.683 total time=   0.0s\n",
      "[CV 1/4] END n_neighbors=15, p=2, weights=uniform;, score=0.677 total time=   0.1s\n",
      "[CV 2/4] END n_neighbors=15, p=2, weights=uniform;, score=0.656 total time=   0.1s\n",
      "[CV 3/4] END n_neighbors=15, p=2, weights=uniform;, score=0.678 total time=   0.2s\n",
      "[CV 4/4] END n_neighbors=15, p=2, weights=uniform;, score=0.670 total time=   0.2s\n",
      "[CV 1/4] END n_neighbors=15, p=2, weights=distance;, score=0.706 total time=   0.1s\n",
      "[CV 2/4] END n_neighbors=15, p=2, weights=distance;, score=0.699 total time=   0.0s\n",
      "[CV 3/4] END n_neighbors=15, p=2, weights=distance;, score=0.686 total time=   0.0s\n",
      "[CV 4/4] END n_neighbors=15, p=2, weights=distance;, score=0.680 total time=   0.0s\n",
      "[CV 1/4] END n_neighbors=20, p=1, weights=uniform;, score=0.684 total time=   0.2s\n",
      "[CV 2/4] END n_neighbors=20, p=1, weights=uniform;, score=0.657 total time=   0.2s\n",
      "[CV 3/4] END n_neighbors=20, p=1, weights=uniform;, score=0.672 total time=   0.2s\n",
      "[CV 4/4] END n_neighbors=20, p=1, weights=uniform;, score=0.670 total time=   0.2s\n",
      "[CV 1/4] END n_neighbors=20, p=1, weights=distance;, score=0.708 total time=   0.1s\n",
      "[CV 2/4] END n_neighbors=20, p=1, weights=distance;, score=0.706 total time=   0.1s\n",
      "[CV 3/4] END n_neighbors=20, p=1, weights=distance;, score=0.690 total time=   0.0s\n",
      "[CV 4/4] END n_neighbors=20, p=1, weights=distance;, score=0.682 total time=   0.1s\n",
      "[CV 1/4] END n_neighbors=20, p=2, weights=uniform;, score=0.677 total time=   0.2s\n",
      "[CV 2/4] END n_neighbors=20, p=2, weights=uniform;, score=0.656 total time=   0.1s\n",
      "[CV 3/4] END n_neighbors=20, p=2, weights=uniform;, score=0.669 total time=   0.2s\n",
      "[CV 4/4] END n_neighbors=20, p=2, weights=uniform;, score=0.664 total time=   0.2s\n",
      "[CV 1/4] END n_neighbors=20, p=2, weights=distance;, score=0.700 total time=   0.0s\n",
      "[CV 2/4] END n_neighbors=20, p=2, weights=distance;, score=0.691 total time=   0.0s\n",
      "[CV 3/4] END n_neighbors=20, p=2, weights=distance;, score=0.687 total time=   0.1s\n",
      "[CV 4/4] END n_neighbors=20, p=2, weights=distance;, score=0.681 total time=   0.1s\n",
      "[CV 1/4] END n_neighbors=25, p=1, weights=uniform;, score=0.662 total time=   0.2s\n",
      "[CV 2/4] END n_neighbors=25, p=1, weights=uniform;, score=0.655 total time=   0.2s\n",
      "[CV 3/4] END n_neighbors=25, p=1, weights=uniform;, score=0.667 total time=   0.1s\n",
      "[CV 4/4] END n_neighbors=25, p=1, weights=uniform;, score=0.652 total time=   0.2s\n",
      "[CV 1/4] END n_neighbors=25, p=1, weights=distance;, score=0.705 total time=   0.1s\n",
      "[CV 2/4] END n_neighbors=25, p=1, weights=distance;, score=0.700 total time=   0.0s\n",
      "[CV 3/4] END n_neighbors=25, p=1, weights=distance;, score=0.688 total time=   0.1s\n",
      "[CV 4/4] END n_neighbors=25, p=1, weights=distance;, score=0.681 total time=   0.1s\n",
      "[CV 1/4] END n_neighbors=25, p=2, weights=uniform;, score=0.667 total time=   0.1s\n",
      "[CV 2/4] END n_neighbors=25, p=2, weights=uniform;, score=0.649 total time=   0.1s\n",
      "[CV 3/4] END n_neighbors=25, p=2, weights=uniform;, score=0.674 total time=   0.2s\n",
      "[CV 4/4] END n_neighbors=25, p=2, weights=uniform;, score=0.660 total time=   0.1s\n",
      "[CV 1/4] END n_neighbors=25, p=2, weights=distance;, score=0.705 total time=   0.0s\n",
      "[CV 2/4] END n_neighbors=25, p=2, weights=distance;, score=0.692 total time=   0.0s\n",
      "[CV 3/4] END n_neighbors=25, p=2, weights=distance;, score=0.690 total time=   0.0s\n",
      "[CV 4/4] END n_neighbors=25, p=2, weights=distance;, score=0.684 total time=   0.0s\n",
      "[CV 1/4] END n_neighbors=30, p=1, weights=uniform;, score=0.661 total time=   0.2s\n",
      "[CV 2/4] END n_neighbors=30, p=1, weights=uniform;, score=0.651 total time=   0.2s\n",
      "[CV 3/4] END n_neighbors=30, p=1, weights=uniform;, score=0.658 total time=   0.1s\n",
      "[CV 4/4] END n_neighbors=30, p=1, weights=uniform;, score=0.651 total time=   0.2s\n",
      "[CV 1/4] END n_neighbors=30, p=1, weights=distance;, score=0.703 total time=   0.1s\n",
      "[CV 2/4] END n_neighbors=30, p=1, weights=distance;, score=0.695 total time=   0.1s\n",
      "[CV 3/4] END n_neighbors=30, p=1, weights=distance;, score=0.685 total time=   0.1s\n",
      "[CV 4/4] END n_neighbors=30, p=1, weights=distance;, score=0.683 total time=   0.1s\n",
      "[CV 1/4] END n_neighbors=30, p=2, weights=uniform;, score=0.666 total time=   0.2s\n",
      "[CV 2/4] END n_neighbors=30, p=2, weights=uniform;, score=0.652 total time=   0.1s\n",
      "[CV 3/4] END n_neighbors=30, p=2, weights=uniform;, score=0.665 total time=   0.2s\n",
      "[CV 4/4] END n_neighbors=30, p=2, weights=uniform;, score=0.655 total time=   0.1s\n",
      "[CV 1/4] END n_neighbors=30, p=2, weights=distance;, score=0.696 total time=   0.1s\n",
      "[CV 2/4] END n_neighbors=30, p=2, weights=distance;, score=0.694 total time=   0.0s\n",
      "[CV 3/4] END n_neighbors=30, p=2, weights=distance;, score=0.689 total time=   0.0s\n",
      "[CV 4/4] END n_neighbors=30, p=2, weights=distance;, score=0.687 total time=   0.0s\n",
      "[CV 1/4] END n_neighbors=35, p=1, weights=uniform;, score=0.651 total time=   0.2s\n",
      "[CV 2/4] END n_neighbors=35, p=1, weights=uniform;, score=0.646 total time=   0.2s\n",
      "[CV 3/4] END n_neighbors=35, p=1, weights=uniform;, score=0.648 total time=   0.1s\n",
      "[CV 4/4] END n_neighbors=35, p=1, weights=uniform;, score=0.645 total time=   0.2s\n",
      "[CV 1/4] END n_neighbors=35, p=1, weights=distance;, score=0.698 total time=   0.1s\n",
      "[CV 2/4] END n_neighbors=35, p=1, weights=distance;, score=0.696 total time=   0.1s\n",
      "[CV 3/4] END n_neighbors=35, p=1, weights=distance;, score=0.686 total time=   0.1s\n",
      "[CV 4/4] END n_neighbors=35, p=1, weights=distance;, score=0.685 total time=   0.1s\n",
      "[CV 1/4] END n_neighbors=35, p=2, weights=uniform;, score=0.653 total time=   0.2s\n",
      "[CV 2/4] END n_neighbors=35, p=2, weights=uniform;, score=0.639 total time=   0.2s\n",
      "[CV 3/4] END n_neighbors=35, p=2, weights=uniform;, score=0.651 total time=   0.2s\n",
      "[CV 4/4] END n_neighbors=35, p=2, weights=uniform;, score=0.648 total time=   0.1s\n",
      "[CV 1/4] END n_neighbors=35, p=2, weights=distance;, score=0.693 total time=   0.1s\n",
      "[CV 2/4] END n_neighbors=35, p=2, weights=distance;, score=0.692 total time=   0.1s\n",
      "[CV 3/4] END n_neighbors=35, p=2, weights=distance;, score=0.689 total time=   0.1s\n",
      "[CV 4/4] END n_neighbors=35, p=2, weights=distance;, score=0.688 total time=   0.1s\n",
      "[CV 1/4] END n_neighbors=40, p=1, weights=uniform;, score=0.644 total time=   0.2s\n",
      "[CV 2/4] END n_neighbors=40, p=1, weights=uniform;, score=0.635 total time=   0.2s\n",
      "[CV 3/4] END n_neighbors=40, p=1, weights=uniform;, score=0.645 total time=   0.2s\n",
      "[CV 4/4] END n_neighbors=40, p=1, weights=uniform;, score=0.644 total time=   0.2s\n",
      "[CV 1/4] END n_neighbors=40, p=1, weights=distance;, score=0.694 total time=   0.1s\n",
      "[CV 2/4] END n_neighbors=40, p=1, weights=distance;, score=0.696 total time=   0.1s\n",
      "[CV 3/4] END n_neighbors=40, p=1, weights=distance;, score=0.685 total time=   0.1s\n",
      "[CV 4/4] END n_neighbors=40, p=1, weights=distance;, score=0.678 total time=   0.1s\n",
      "[CV 1/4] END n_neighbors=40, p=2, weights=uniform;, score=0.649 total time=   0.2s\n",
      "[CV 2/4] END n_neighbors=40, p=2, weights=uniform;, score=0.632 total time=   0.2s\n",
      "[CV 3/4] END n_neighbors=40, p=2, weights=uniform;, score=0.642 total time=   0.2s\n",
      "[CV 4/4] END n_neighbors=40, p=2, weights=uniform;, score=0.642 total time=   0.2s\n",
      "[CV 1/4] END n_neighbors=40, p=2, weights=distance;, score=0.694 total time=   0.1s\n",
      "[CV 2/4] END n_neighbors=40, p=2, weights=distance;, score=0.691 total time=   0.1s\n",
      "[CV 3/4] END n_neighbors=40, p=2, weights=distance;, score=0.686 total time=   0.1s\n",
      "[CV 4/4] END n_neighbors=40, p=2, weights=distance;, score=0.682 total time=   0.1s\n",
      "[CV 1/4] END n_neighbors=45, p=1, weights=uniform;, score=0.639 total time=   0.2s\n",
      "[CV 2/4] END n_neighbors=45, p=1, weights=uniform;, score=0.630 total time=   0.2s\n",
      "[CV 3/4] END n_neighbors=45, p=1, weights=uniform;, score=0.642 total time=   0.2s\n",
      "[CV 4/4] END n_neighbors=45, p=1, weights=uniform;, score=0.644 total time=   0.2s\n",
      "[CV 1/4] END n_neighbors=45, p=1, weights=distance;, score=0.697 total time=   0.1s\n",
      "[CV 2/4] END n_neighbors=45, p=1, weights=distance;, score=0.694 total time=   0.1s\n",
      "[CV 3/4] END n_neighbors=45, p=1, weights=distance;, score=0.683 total time=   0.1s\n",
      "[CV 4/4] END n_neighbors=45, p=1, weights=distance;, score=0.680 total time=   0.1s\n",
      "[CV 1/4] END n_neighbors=45, p=2, weights=uniform;, score=0.645 total time=   0.2s\n",
      "[CV 2/4] END n_neighbors=45, p=2, weights=uniform;, score=0.629 total time=   0.1s\n",
      "[CV 3/4] END n_neighbors=45, p=2, weights=uniform;, score=0.638 total time=   0.2s\n",
      "[CV 4/4] END n_neighbors=45, p=2, weights=uniform;, score=0.648 total time=   0.2s\n",
      "[CV 1/4] END n_neighbors=45, p=2, weights=distance;, score=0.697 total time=   0.1s\n",
      "[CV 2/4] END n_neighbors=45, p=2, weights=distance;, score=0.682 total time=   0.1s\n",
      "[CV 3/4] END n_neighbors=45, p=2, weights=distance;, score=0.685 total time=   0.1s\n",
      "[CV 4/4] END n_neighbors=45, p=2, weights=distance;, score=0.682 total time=   0.1s\n"
     ]
    },
    {
     "data": {
      "text/html": [
       "<style>#sk-container-id-2 {color: black;}#sk-container-id-2 pre{padding: 0;}#sk-container-id-2 div.sk-toggleable {background-color: white;}#sk-container-id-2 label.sk-toggleable__label {cursor: pointer;display: block;width: 100%;margin-bottom: 0;padding: 0.3em;box-sizing: border-box;text-align: center;}#sk-container-id-2 label.sk-toggleable__label-arrow:before {content: \"▸\";float: left;margin-right: 0.25em;color: #696969;}#sk-container-id-2 label.sk-toggleable__label-arrow:hover:before {color: black;}#sk-container-id-2 div.sk-estimator:hover label.sk-toggleable__label-arrow:before {color: black;}#sk-container-id-2 div.sk-toggleable__content {max-height: 0;max-width: 0;overflow: hidden;text-align: left;background-color: #f0f8ff;}#sk-container-id-2 div.sk-toggleable__content pre {margin: 0.2em;color: black;border-radius: 0.25em;background-color: #f0f8ff;}#sk-container-id-2 input.sk-toggleable__control:checked~div.sk-toggleable__content {max-height: 200px;max-width: 100%;overflow: auto;}#sk-container-id-2 input.sk-toggleable__control:checked~label.sk-toggleable__label-arrow:before {content: \"▾\";}#sk-container-id-2 div.sk-estimator input.sk-toggleable__control:checked~label.sk-toggleable__label {background-color: #d4ebff;}#sk-container-id-2 div.sk-label input.sk-toggleable__control:checked~label.sk-toggleable__label {background-color: #d4ebff;}#sk-container-id-2 input.sk-hidden--visually {border: 0;clip: rect(1px 1px 1px 1px);clip: rect(1px, 1px, 1px, 1px);height: 1px;margin: -1px;overflow: hidden;padding: 0;position: absolute;width: 1px;}#sk-container-id-2 div.sk-estimator {font-family: monospace;background-color: #f0f8ff;border: 1px dotted black;border-radius: 0.25em;box-sizing: border-box;margin-bottom: 0.5em;}#sk-container-id-2 div.sk-estimator:hover {background-color: #d4ebff;}#sk-container-id-2 div.sk-parallel-item::after {content: \"\";width: 100%;border-bottom: 1px solid gray;flex-grow: 1;}#sk-container-id-2 div.sk-label:hover label.sk-toggleable__label {background-color: #d4ebff;}#sk-container-id-2 div.sk-serial::before {content: \"\";position: absolute;border-left: 1px solid gray;box-sizing: border-box;top: 0;bottom: 0;left: 50%;z-index: 0;}#sk-container-id-2 div.sk-serial {display: flex;flex-direction: column;align-items: center;background-color: white;padding-right: 0.2em;padding-left: 0.2em;position: relative;}#sk-container-id-2 div.sk-item {position: relative;z-index: 1;}#sk-container-id-2 div.sk-parallel {display: flex;align-items: stretch;justify-content: center;background-color: white;position: relative;}#sk-container-id-2 div.sk-item::before, #sk-container-id-2 div.sk-parallel-item::before {content: \"\";position: absolute;border-left: 1px solid gray;box-sizing: border-box;top: 0;bottom: 0;left: 50%;z-index: -1;}#sk-container-id-2 div.sk-parallel-item {display: flex;flex-direction: column;z-index: 1;position: relative;background-color: white;}#sk-container-id-2 div.sk-parallel-item:first-child::after {align-self: flex-end;width: 50%;}#sk-container-id-2 div.sk-parallel-item:last-child::after {align-self: flex-start;width: 50%;}#sk-container-id-2 div.sk-parallel-item:only-child::after {width: 0;}#sk-container-id-2 div.sk-dashed-wrapped {border: 1px dashed gray;margin: 0 0.4em 0.5em 0.4em;box-sizing: border-box;padding-bottom: 0.4em;background-color: white;}#sk-container-id-2 div.sk-label label {font-family: monospace;font-weight: bold;display: inline-block;line-height: 1.2em;}#sk-container-id-2 div.sk-label-container {text-align: center;}#sk-container-id-2 div.sk-container {/* jupyter's `normalize.less` sets `[hidden] { display: none; }` but bootstrap.min.css set `[hidden] { display: none !important; }` so we also need the `!important` here to be able to override the default hidden behavior on the sphinx rendered scikit-learn.org. See: https://github.com/scikit-learn/scikit-learn/issues/21755 */display: inline-block !important;position: relative;}#sk-container-id-2 div.sk-text-repr-fallback {display: none;}</style><div id=\"sk-container-id-2\" class=\"sk-top-container\"><div class=\"sk-text-repr-fallback\"><pre>GridSearchCV(cv=4, estimator=KNeighborsClassifier(),\n",
       "             param_grid={&#x27;n_neighbors&#x27;: range(5, 50, 5), &#x27;p&#x27;: [1, 2],\n",
       "                         &#x27;weights&#x27;: [&#x27;uniform&#x27;, &#x27;distance&#x27;]},\n",
       "             verbose=4)</pre><b>In a Jupyter environment, please rerun this cell to show the HTML representation or trust the notebook. <br />On GitHub, the HTML representation is unable to render, please try loading this page with nbviewer.org.</b></div><div class=\"sk-container\" hidden><div class=\"sk-item sk-dashed-wrapped\"><div class=\"sk-label-container\"><div class=\"sk-label sk-toggleable\"><input class=\"sk-toggleable__control sk-hidden--visually\" id=\"sk-estimator-id-2\" type=\"checkbox\" ><label for=\"sk-estimator-id-2\" class=\"sk-toggleable__label sk-toggleable__label-arrow\">GridSearchCV</label><div class=\"sk-toggleable__content\"><pre>GridSearchCV(cv=4, estimator=KNeighborsClassifier(),\n",
       "             param_grid={&#x27;n_neighbors&#x27;: range(5, 50, 5), &#x27;p&#x27;: [1, 2],\n",
       "                         &#x27;weights&#x27;: [&#x27;uniform&#x27;, &#x27;distance&#x27;]},\n",
       "             verbose=4)</pre></div></div></div><div class=\"sk-parallel\"><div class=\"sk-parallel-item\"><div class=\"sk-item\"><div class=\"sk-label-container\"><div class=\"sk-label sk-toggleable\"><input class=\"sk-toggleable__control sk-hidden--visually\" id=\"sk-estimator-id-3\" type=\"checkbox\" ><label for=\"sk-estimator-id-3\" class=\"sk-toggleable__label sk-toggleable__label-arrow\">estimator: KNeighborsClassifier</label><div class=\"sk-toggleable__content\"><pre>KNeighborsClassifier()</pre></div></div></div><div class=\"sk-serial\"><div class=\"sk-item\"><div class=\"sk-estimator sk-toggleable\"><input class=\"sk-toggleable__control sk-hidden--visually\" id=\"sk-estimator-id-4\" type=\"checkbox\" ><label for=\"sk-estimator-id-4\" class=\"sk-toggleable__label sk-toggleable__label-arrow\">KNeighborsClassifier</label><div class=\"sk-toggleable__content\"><pre>KNeighborsClassifier()</pre></div></div></div></div></div></div></div></div></div></div>"
      ],
      "text/plain": [
       "GridSearchCV(cv=4, estimator=KNeighborsClassifier(),\n",
       "             param_grid={'n_neighbors': range(5, 50, 5), 'p': [1, 2],\n",
       "                         'weights': ['uniform', 'distance']},\n",
       "             verbose=4)"
      ]
     },
     "execution_count": 20,
     "metadata": {},
     "output_type": "execute_result"
    }
   ],
   "source": [
    "from sklearn.model_selection import GridSearchCV\n",
    "\n",
    "estimator = GridSearchCV(KNeighborsClassifier(), params_grid, cv=4, verbose=4)\n",
    "estimator.fit(X_train, y_train)"
   ]
  },
  {
   "cell_type": "code",
   "execution_count": 21,
   "id": "7a913143-1c5c-45ec-aad3-c6b91e616d52",
   "metadata": {},
   "outputs": [],
   "source": [
    "y_pred = estimator.predict(X_test)"
   ]
  },
  {
   "cell_type": "code",
   "execution_count": 22,
   "id": "7712082b-4b35-4ef9-8049-03ef95820ad1",
   "metadata": {},
   "outputs": [
    {
     "data": {
      "text/plain": [
       "{'n_neighbors': 10, 'p': 1, 'weights': 'distance'}"
      ]
     },
     "execution_count": 22,
     "metadata": {},
     "output_type": "execute_result"
    }
   ],
   "source": [
    "# Let's see what the best parameters are based on the estimator:\n",
    "\n",
    "estimator.best_params_\n"
   ]
  },
  {
   "cell_type": "code",
   "execution_count": 23,
   "id": "3602ae40-60b8-4719-b924-8998f13f4daa",
   "metadata": {},
   "outputs": [
    {
     "data": {
      "text/plain": [
       "0.6986244489924434"
      ]
     },
     "execution_count": 23,
     "metadata": {},
     "output_type": "execute_result"
    }
   ],
   "source": [
    "\n",
    "estimator.best_score_"
   ]
  },
  {
   "cell_type": "code",
   "execution_count": 24,
   "id": "deb58dc7-9d1a-4622-bc4c-72020492faf1",
   "metadata": {},
   "outputs": [
    {
     "name": "stdout",
     "output_type": "stream",
     "text": [
      "\u001b[32mClassification report for model KNeighborsClassifier on training data\u001b[0m\n",
      "---------------------------------------------------------------------------------\n",
      "                  precision    recall  f1-score   support\n",
      "\n",
      "Cheap/Affordable       0.97      0.99      0.98      2437\n",
      "       Expensive       0.98      0.99      0.99      2678\n",
      "   Medium priced       0.99      0.96      0.98      2822\n",
      "\n",
      "        accuracy                           0.98      7937\n",
      "       macro avg       0.98      0.98      0.98      7937\n",
      "    weighted avg       0.98      0.98      0.98      7937\n",
      "\n"
     ]
    }
   ],
   "source": [
    "report(estimator.best_estimator_, X_train, y_train)"
   ]
  },
  {
   "cell_type": "code",
   "execution_count": 25,
   "id": "0f629047-38cd-472c-817f-8708015e1feb",
   "metadata": {},
   "outputs": [
    {
     "name": "stdout",
     "output_type": "stream",
     "text": [
      "\u001b[32mClassification report for model KNeighborsClassifier on test data\u001b[0m\n",
      "---------------------------------------------------------------------------------\n",
      "                  precision    recall  f1-score   support\n",
      "\n",
      "Cheap/Affordable       0.74      0.73      0.73       609\n",
      "       Expensive       0.78      0.79      0.78       670\n",
      "   Medium priced       0.63      0.63      0.63       706\n",
      "\n",
      "        accuracy                           0.71      1985\n",
      "       macro avg       0.71      0.71      0.71      1985\n",
      "    weighted avg       0.71      0.71      0.71      1985\n",
      "\n"
     ]
    }
   ],
   "source": [
    "report(estimator.best_estimator_, X_test, y_test, \"test\")"
   ]
  },
  {
   "cell_type": "markdown",
   "id": "ed356357-2f46-462a-ae4e-8743a42e00d1",
   "metadata": {},
   "source": [
    "Tacnost na trening skupu je 99%, a na test skupu samo 71%. To govori o tome da se model preprilagodio. Ova situacija se mozda moze resiti podelom podataka na trening, test, i dodatan validacioni skup. Ovo je skup podataka koji se koristi za procenu performansi modela tokom procesa podešavanja parametara."
   ]
  },
  {
   "cell_type": "code",
   "execution_count": 26,
   "id": "2ea5693b-cd7b-4b27-9574-bbd5935b6ece",
   "metadata": {},
   "outputs": [],
   "source": [
    "from sklearn.model_selection import train_test_split\n",
    "\n",
    "# Podela skupa podataka na trening i test skup\n",
    "X_train, X_test, y_train, y_test = train_test_split(X, y, test_size=0.2, random_state=41)\n",
    "\n",
    "# Podela trening skupa na trening i validacioni skup\n",
    "X_train, X_val, y_train, y_val = train_test_split(X_train, y_train, test_size=0.2, random_state=41)\n"
   ]
  },
  {
   "cell_type": "code",
   "execution_count": 27,
   "id": "0ec2c3be-ca89-4aa5-b8d1-fe8f4b3e9103",
   "metadata": {},
   "outputs": [
    {
     "name": "stdout",
     "output_type": "stream",
     "text": [
      "Fitting 4 folds for each of 36 candidates, totalling 144 fits\n",
      "[CV 1/4] END n_neighbors=5, p=1, weights=uniform;, score=0.649 total time=   0.1s\n",
      "[CV 2/4] END n_neighbors=5, p=1, weights=uniform;, score=0.641 total time=   0.1s\n",
      "[CV 3/4] END n_neighbors=5, p=1, weights=uniform;, score=0.637 total time=   0.1s\n",
      "[CV 4/4] END n_neighbors=5, p=1, weights=uniform;, score=0.641 total time=   0.1s\n",
      "[CV 1/4] END n_neighbors=5, p=1, weights=distance;, score=0.669 total time=   0.0s\n",
      "[CV 2/4] END n_neighbors=5, p=1, weights=distance;, score=0.658 total time=   0.0s\n",
      "[CV 3/4] END n_neighbors=5, p=1, weights=distance;, score=0.645 total time=   0.0s\n",
      "[CV 4/4] END n_neighbors=5, p=1, weights=distance;, score=0.643 total time=   0.0s\n",
      "[CV 1/4] END n_neighbors=5, p=2, weights=uniform;, score=0.629 total time=   0.1s\n",
      "[CV 2/4] END n_neighbors=5, p=2, weights=uniform;, score=0.628 total time=   0.1s\n",
      "[CV 3/4] END n_neighbors=5, p=2, weights=uniform;, score=0.624 total time=   0.1s\n",
      "[CV 4/4] END n_neighbors=5, p=2, weights=uniform;, score=0.628 total time=   0.1s\n",
      "[CV 1/4] END n_neighbors=5, p=2, weights=distance;, score=0.655 total time=   0.0s\n",
      "[CV 2/4] END n_neighbors=5, p=2, weights=distance;, score=0.644 total time=   0.0s\n",
      "[CV 3/4] END n_neighbors=5, p=2, weights=distance;, score=0.636 total time=   0.0s\n",
      "[CV 4/4] END n_neighbors=5, p=2, weights=distance;, score=0.643 total time=   0.0s\n",
      "[CV 1/4] END n_neighbors=10, p=1, weights=uniform;, score=0.655 total time=   0.1s\n",
      "[CV 2/4] END n_neighbors=10, p=1, weights=uniform;, score=0.642 total time=   0.1s\n",
      "[CV 3/4] END n_neighbors=10, p=1, weights=uniform;, score=0.647 total time=   0.1s\n",
      "[CV 4/4] END n_neighbors=10, p=1, weights=uniform;, score=0.644 total time=   0.1s\n",
      "[CV 1/4] END n_neighbors=10, p=1, weights=distance;, score=0.679 total time=   0.0s\n",
      "[CV 2/4] END n_neighbors=10, p=1, weights=distance;, score=0.659 total time=   0.0s\n",
      "[CV 3/4] END n_neighbors=10, p=1, weights=distance;, score=0.657 total time=   0.0s\n",
      "[CV 4/4] END n_neighbors=10, p=1, weights=distance;, score=0.653 total time=   0.0s\n",
      "[CV 1/4] END n_neighbors=10, p=2, weights=uniform;, score=0.644 total time=   0.1s\n",
      "[CV 2/4] END n_neighbors=10, p=2, weights=uniform;, score=0.614 total time=   0.1s\n",
      "[CV 3/4] END n_neighbors=10, p=2, weights=uniform;, score=0.639 total time=   0.1s\n",
      "[CV 4/4] END n_neighbors=10, p=2, weights=uniform;, score=0.624 total time=   0.1s\n",
      "[CV 1/4] END n_neighbors=10, p=2, weights=distance;, score=0.666 total time=   0.0s\n",
      "[CV 2/4] END n_neighbors=10, p=2, weights=distance;, score=0.650 total time=   0.0s\n",
      "[CV 3/4] END n_neighbors=10, p=2, weights=distance;, score=0.647 total time=   0.0s\n",
      "[CV 4/4] END n_neighbors=10, p=2, weights=distance;, score=0.636 total time=   0.0s\n",
      "[CV 1/4] END n_neighbors=15, p=1, weights=uniform;, score=0.664 total time=   0.1s\n",
      "[CV 2/4] END n_neighbors=15, p=1, weights=uniform;, score=0.644 total time=   0.1s\n",
      "[CV 3/4] END n_neighbors=15, p=1, weights=uniform;, score=0.645 total time=   0.1s\n",
      "[CV 4/4] END n_neighbors=15, p=1, weights=uniform;, score=0.648 total time=   0.1s\n",
      "[CV 1/4] END n_neighbors=15, p=1, weights=distance;, score=0.686 total time=   0.0s\n",
      "[CV 2/4] END n_neighbors=15, p=1, weights=distance;, score=0.657 total time=   0.0s\n",
      "[CV 3/4] END n_neighbors=15, p=1, weights=distance;, score=0.663 total time=   0.0s\n",
      "[CV 4/4] END n_neighbors=15, p=1, weights=distance;, score=0.656 total time=   0.0s\n",
      "[CV 1/4] END n_neighbors=15, p=2, weights=uniform;, score=0.652 total time=   0.1s\n",
      "[CV 2/4] END n_neighbors=15, p=2, weights=uniform;, score=0.623 total time=   0.1s\n",
      "[CV 3/4] END n_neighbors=15, p=2, weights=uniform;, score=0.640 total time=   0.1s\n",
      "[CV 4/4] END n_neighbors=15, p=2, weights=uniform;, score=0.619 total time=   0.1s\n",
      "[CV 1/4] END n_neighbors=15, p=2, weights=distance;, score=0.672 total time=   0.0s\n",
      "[CV 2/4] END n_neighbors=15, p=2, weights=distance;, score=0.652 total time=   0.0s\n",
      "[CV 3/4] END n_neighbors=15, p=2, weights=distance;, score=0.660 total time=   0.0s\n",
      "[CV 4/4] END n_neighbors=15, p=2, weights=distance;, score=0.643 total time=   0.0s\n",
      "[CV 1/4] END n_neighbors=20, p=1, weights=uniform;, score=0.657 total time=   0.1s\n",
      "[CV 2/4] END n_neighbors=20, p=1, weights=uniform;, score=0.636 total time=   0.1s\n",
      "[CV 3/4] END n_neighbors=20, p=1, weights=uniform;, score=0.644 total time=   0.1s\n",
      "[CV 4/4] END n_neighbors=20, p=1, weights=uniform;, score=0.642 total time=   0.1s\n",
      "[CV 1/4] END n_neighbors=20, p=1, weights=distance;, score=0.690 total time=   0.0s\n",
      "[CV 2/4] END n_neighbors=20, p=1, weights=distance;, score=0.665 total time=   0.0s\n",
      "[CV 3/4] END n_neighbors=20, p=1, weights=distance;, score=0.669 total time=   0.0s\n",
      "[CV 4/4] END n_neighbors=20, p=1, weights=distance;, score=0.655 total time=   0.0s\n",
      "[CV 1/4] END n_neighbors=20, p=2, weights=uniform;, score=0.651 total time=   0.1s\n",
      "[CV 2/4] END n_neighbors=20, p=2, weights=uniform;, score=0.634 total time=   0.2s\n",
      "[CV 3/4] END n_neighbors=20, p=2, weights=uniform;, score=0.635 total time=   0.1s\n",
      "[CV 4/4] END n_neighbors=20, p=2, weights=uniform;, score=0.618 total time=   0.1s\n",
      "[CV 1/4] END n_neighbors=20, p=2, weights=distance;, score=0.675 total time=   0.0s\n",
      "[CV 2/4] END n_neighbors=20, p=2, weights=distance;, score=0.652 total time=   0.0s\n",
      "[CV 3/4] END n_neighbors=20, p=2, weights=distance;, score=0.656 total time=   0.0s\n",
      "[CV 4/4] END n_neighbors=20, p=2, weights=distance;, score=0.650 total time=   0.0s\n",
      "[CV 1/4] END n_neighbors=25, p=1, weights=uniform;, score=0.667 total time=   0.2s\n",
      "[CV 2/4] END n_neighbors=25, p=1, weights=uniform;, score=0.624 total time=   0.1s\n",
      "[CV 3/4] END n_neighbors=25, p=1, weights=uniform;, score=0.646 total time=   0.1s\n",
      "[CV 4/4] END n_neighbors=25, p=1, weights=uniform;, score=0.639 total time=   0.1s\n",
      "[CV 1/4] END n_neighbors=25, p=1, weights=distance;, score=0.686 total time=   0.0s\n",
      "[CV 2/4] END n_neighbors=25, p=1, weights=distance;, score=0.664 total time=   0.0s\n",
      "[CV 3/4] END n_neighbors=25, p=1, weights=distance;, score=0.670 total time=   0.0s\n",
      "[CV 4/4] END n_neighbors=25, p=1, weights=distance;, score=0.654 total time=   0.0s\n",
      "[CV 1/4] END n_neighbors=25, p=2, weights=uniform;, score=0.649 total time=   0.2s\n",
      "[CV 2/4] END n_neighbors=25, p=2, weights=uniform;, score=0.615 total time=   0.1s\n",
      "[CV 3/4] END n_neighbors=25, p=2, weights=uniform;, score=0.621 total time=   0.1s\n",
      "[CV 4/4] END n_neighbors=25, p=2, weights=uniform;, score=0.621 total time=   0.1s\n",
      "[CV 1/4] END n_neighbors=25, p=2, weights=distance;, score=0.673 total time=   0.0s\n",
      "[CV 2/4] END n_neighbors=25, p=2, weights=distance;, score=0.652 total time=   0.0s\n",
      "[CV 3/4] END n_neighbors=25, p=2, weights=distance;, score=0.661 total time=   0.0s\n",
      "[CV 4/4] END n_neighbors=25, p=2, weights=distance;, score=0.643 total time=   0.0s\n",
      "[CV 1/4] END n_neighbors=30, p=1, weights=uniform;, score=0.663 total time=   0.1s\n",
      "[CV 2/4] END n_neighbors=30, p=1, weights=uniform;, score=0.631 total time=   0.1s\n",
      "[CV 3/4] END n_neighbors=30, p=1, weights=uniform;, score=0.638 total time=   0.1s\n",
      "[CV 4/4] END n_neighbors=30, p=1, weights=uniform;, score=0.633 total time=   0.2s\n",
      "[CV 1/4] END n_neighbors=30, p=1, weights=distance;, score=0.682 total time=   0.0s\n",
      "[CV 2/4] END n_neighbors=30, p=1, weights=distance;, score=0.670 total time=   0.0s\n",
      "[CV 3/4] END n_neighbors=30, p=1, weights=distance;, score=0.670 total time=   0.0s\n",
      "[CV 4/4] END n_neighbors=30, p=1, weights=distance;, score=0.655 total time=   0.0s\n",
      "[CV 1/4] END n_neighbors=30, p=2, weights=uniform;, score=0.654 total time=   0.1s\n",
      "[CV 2/4] END n_neighbors=30, p=2, weights=uniform;, score=0.612 total time=   0.1s\n",
      "[CV 3/4] END n_neighbors=30, p=2, weights=uniform;, score=0.618 total time=   0.1s\n",
      "[CV 4/4] END n_neighbors=30, p=2, weights=uniform;, score=0.612 total time=   0.1s\n",
      "[CV 1/4] END n_neighbors=30, p=2, weights=distance;, score=0.670 total time=   0.0s\n",
      "[CV 2/4] END n_neighbors=30, p=2, weights=distance;, score=0.648 total time=   0.1s\n",
      "[CV 3/4] END n_neighbors=30, p=2, weights=distance;, score=0.665 total time=   0.1s\n",
      "[CV 4/4] END n_neighbors=30, p=2, weights=distance;, score=0.641 total time=   0.1s\n",
      "[CV 1/4] END n_neighbors=35, p=1, weights=uniform;, score=0.662 total time=   0.2s\n",
      "[CV 2/4] END n_neighbors=35, p=1, weights=uniform;, score=0.631 total time=   0.1s\n",
      "[CV 3/4] END n_neighbors=35, p=1, weights=uniform;, score=0.635 total time=   0.1s\n",
      "[CV 4/4] END n_neighbors=35, p=1, weights=uniform;, score=0.626 total time=   0.1s\n",
      "[CV 1/4] END n_neighbors=35, p=1, weights=distance;, score=0.684 total time=   0.0s\n",
      "[CV 2/4] END n_neighbors=35, p=1, weights=distance;, score=0.667 total time=   0.0s\n",
      "[CV 3/4] END n_neighbors=35, p=1, weights=distance;, score=0.679 total time=   0.1s\n",
      "[CV 4/4] END n_neighbors=35, p=1, weights=distance;, score=0.652 total time=   0.0s\n",
      "[CV 1/4] END n_neighbors=35, p=2, weights=uniform;, score=0.638 total time=   0.1s\n",
      "[CV 2/4] END n_neighbors=35, p=2, weights=uniform;, score=0.606 total time=   0.1s\n",
      "[CV 3/4] END n_neighbors=35, p=2, weights=uniform;, score=0.616 total time=   0.2s\n",
      "[CV 4/4] END n_neighbors=35, p=2, weights=uniform;, score=0.607 total time=   0.2s\n",
      "[CV 1/4] END n_neighbors=35, p=2, weights=distance;, score=0.672 total time=   0.0s\n",
      "[CV 2/4] END n_neighbors=35, p=2, weights=distance;, score=0.647 total time=   0.0s\n",
      "[CV 3/4] END n_neighbors=35, p=2, weights=distance;, score=0.661 total time=   0.0s\n",
      "[CV 4/4] END n_neighbors=35, p=2, weights=distance;, score=0.645 total time=   0.0s\n",
      "[CV 1/4] END n_neighbors=40, p=1, weights=uniform;, score=0.667 total time=   0.1s\n",
      "[CV 2/4] END n_neighbors=40, p=1, weights=uniform;, score=0.621 total time=   0.1s\n",
      "[CV 3/4] END n_neighbors=40, p=1, weights=uniform;, score=0.629 total time=   0.1s\n",
      "[CV 4/4] END n_neighbors=40, p=1, weights=uniform;, score=0.623 total time=   0.1s\n",
      "[CV 1/4] END n_neighbors=40, p=1, weights=distance;, score=0.679 total time=   0.0s\n",
      "[CV 2/4] END n_neighbors=40, p=1, weights=distance;, score=0.667 total time=   0.0s\n",
      "[CV 3/4] END n_neighbors=40, p=1, weights=distance;, score=0.674 total time=   0.0s\n",
      "[CV 4/4] END n_neighbors=40, p=1, weights=distance;, score=0.651 total time=   0.0s\n",
      "[CV 1/4] END n_neighbors=40, p=2, weights=uniform;, score=0.633 total time=   0.1s\n",
      "[CV 2/4] END n_neighbors=40, p=2, weights=uniform;, score=0.607 total time=   0.1s\n",
      "[CV 3/4] END n_neighbors=40, p=2, weights=uniform;, score=0.609 total time=   0.1s\n",
      "[CV 4/4] END n_neighbors=40, p=2, weights=uniform;, score=0.605 total time=   0.1s\n",
      "[CV 1/4] END n_neighbors=40, p=2, weights=distance;, score=0.671 total time=   0.0s\n",
      "[CV 2/4] END n_neighbors=40, p=2, weights=distance;, score=0.650 total time=   0.0s\n",
      "[CV 3/4] END n_neighbors=40, p=2, weights=distance;, score=0.658 total time=   0.0s\n",
      "[CV 4/4] END n_neighbors=40, p=2, weights=distance;, score=0.643 total time=   0.0s\n",
      "[CV 1/4] END n_neighbors=45, p=1, weights=uniform;, score=0.664 total time=   0.2s\n",
      "[CV 2/4] END n_neighbors=45, p=1, weights=uniform;, score=0.619 total time=   0.1s\n",
      "[CV 3/4] END n_neighbors=45, p=1, weights=uniform;, score=0.628 total time=   0.1s\n",
      "[CV 4/4] END n_neighbors=45, p=1, weights=uniform;, score=0.622 total time=   0.1s\n",
      "[CV 1/4] END n_neighbors=45, p=1, weights=distance;, score=0.689 total time=   0.0s\n",
      "[CV 2/4] END n_neighbors=45, p=1, weights=distance;, score=0.667 total time=   0.0s\n",
      "[CV 3/4] END n_neighbors=45, p=1, weights=distance;, score=0.670 total time=   0.0s\n",
      "[CV 4/4] END n_neighbors=45, p=1, weights=distance;, score=0.648 total time=   0.1s\n",
      "[CV 1/4] END n_neighbors=45, p=2, weights=uniform;, score=0.626 total time=   0.1s\n",
      "[CV 2/4] END n_neighbors=45, p=2, weights=uniform;, score=0.609 total time=   0.1s\n",
      "[CV 3/4] END n_neighbors=45, p=2, weights=uniform;, score=0.609 total time=   0.1s\n",
      "[CV 4/4] END n_neighbors=45, p=2, weights=uniform;, score=0.603 total time=   0.1s\n",
      "[CV 1/4] END n_neighbors=45, p=2, weights=distance;, score=0.669 total time=   0.0s\n",
      "[CV 2/4] END n_neighbors=45, p=2, weights=distance;, score=0.651 total time=   0.0s\n",
      "[CV 3/4] END n_neighbors=45, p=2, weights=distance;, score=0.657 total time=   0.0s\n",
      "[CV 4/4] END n_neighbors=45, p=2, weights=distance;, score=0.642 total time=   0.0s\n"
     ]
    },
    {
     "data": {
      "text/html": [
       "<style>#sk-container-id-3 {color: black;}#sk-container-id-3 pre{padding: 0;}#sk-container-id-3 div.sk-toggleable {background-color: white;}#sk-container-id-3 label.sk-toggleable__label {cursor: pointer;display: block;width: 100%;margin-bottom: 0;padding: 0.3em;box-sizing: border-box;text-align: center;}#sk-container-id-3 label.sk-toggleable__label-arrow:before {content: \"▸\";float: left;margin-right: 0.25em;color: #696969;}#sk-container-id-3 label.sk-toggleable__label-arrow:hover:before {color: black;}#sk-container-id-3 div.sk-estimator:hover label.sk-toggleable__label-arrow:before {color: black;}#sk-container-id-3 div.sk-toggleable__content {max-height: 0;max-width: 0;overflow: hidden;text-align: left;background-color: #f0f8ff;}#sk-container-id-3 div.sk-toggleable__content pre {margin: 0.2em;color: black;border-radius: 0.25em;background-color: #f0f8ff;}#sk-container-id-3 input.sk-toggleable__control:checked~div.sk-toggleable__content {max-height: 200px;max-width: 100%;overflow: auto;}#sk-container-id-3 input.sk-toggleable__control:checked~label.sk-toggleable__label-arrow:before {content: \"▾\";}#sk-container-id-3 div.sk-estimator input.sk-toggleable__control:checked~label.sk-toggleable__label {background-color: #d4ebff;}#sk-container-id-3 div.sk-label input.sk-toggleable__control:checked~label.sk-toggleable__label {background-color: #d4ebff;}#sk-container-id-3 input.sk-hidden--visually {border: 0;clip: rect(1px 1px 1px 1px);clip: rect(1px, 1px, 1px, 1px);height: 1px;margin: -1px;overflow: hidden;padding: 0;position: absolute;width: 1px;}#sk-container-id-3 div.sk-estimator {font-family: monospace;background-color: #f0f8ff;border: 1px dotted black;border-radius: 0.25em;box-sizing: border-box;margin-bottom: 0.5em;}#sk-container-id-3 div.sk-estimator:hover {background-color: #d4ebff;}#sk-container-id-3 div.sk-parallel-item::after {content: \"\";width: 100%;border-bottom: 1px solid gray;flex-grow: 1;}#sk-container-id-3 div.sk-label:hover label.sk-toggleable__label {background-color: #d4ebff;}#sk-container-id-3 div.sk-serial::before {content: \"\";position: absolute;border-left: 1px solid gray;box-sizing: border-box;top: 0;bottom: 0;left: 50%;z-index: 0;}#sk-container-id-3 div.sk-serial {display: flex;flex-direction: column;align-items: center;background-color: white;padding-right: 0.2em;padding-left: 0.2em;position: relative;}#sk-container-id-3 div.sk-item {position: relative;z-index: 1;}#sk-container-id-3 div.sk-parallel {display: flex;align-items: stretch;justify-content: center;background-color: white;position: relative;}#sk-container-id-3 div.sk-item::before, #sk-container-id-3 div.sk-parallel-item::before {content: \"\";position: absolute;border-left: 1px solid gray;box-sizing: border-box;top: 0;bottom: 0;left: 50%;z-index: -1;}#sk-container-id-3 div.sk-parallel-item {display: flex;flex-direction: column;z-index: 1;position: relative;background-color: white;}#sk-container-id-3 div.sk-parallel-item:first-child::after {align-self: flex-end;width: 50%;}#sk-container-id-3 div.sk-parallel-item:last-child::after {align-self: flex-start;width: 50%;}#sk-container-id-3 div.sk-parallel-item:only-child::after {width: 0;}#sk-container-id-3 div.sk-dashed-wrapped {border: 1px dashed gray;margin: 0 0.4em 0.5em 0.4em;box-sizing: border-box;padding-bottom: 0.4em;background-color: white;}#sk-container-id-3 div.sk-label label {font-family: monospace;font-weight: bold;display: inline-block;line-height: 1.2em;}#sk-container-id-3 div.sk-label-container {text-align: center;}#sk-container-id-3 div.sk-container {/* jupyter's `normalize.less` sets `[hidden] { display: none; }` but bootstrap.min.css set `[hidden] { display: none !important; }` so we also need the `!important` here to be able to override the default hidden behavior on the sphinx rendered scikit-learn.org. See: https://github.com/scikit-learn/scikit-learn/issues/21755 */display: inline-block !important;position: relative;}#sk-container-id-3 div.sk-text-repr-fallback {display: none;}</style><div id=\"sk-container-id-3\" class=\"sk-top-container\"><div class=\"sk-text-repr-fallback\"><pre>GridSearchCV(cv=4, estimator=KNeighborsClassifier(),\n",
       "             param_grid={&#x27;n_neighbors&#x27;: range(5, 50, 5), &#x27;p&#x27;: [1, 2],\n",
       "                         &#x27;weights&#x27;: [&#x27;uniform&#x27;, &#x27;distance&#x27;]},\n",
       "             verbose=4)</pre><b>In a Jupyter environment, please rerun this cell to show the HTML representation or trust the notebook. <br />On GitHub, the HTML representation is unable to render, please try loading this page with nbviewer.org.</b></div><div class=\"sk-container\" hidden><div class=\"sk-item sk-dashed-wrapped\"><div class=\"sk-label-container\"><div class=\"sk-label sk-toggleable\"><input class=\"sk-toggleable__control sk-hidden--visually\" id=\"sk-estimator-id-5\" type=\"checkbox\" ><label for=\"sk-estimator-id-5\" class=\"sk-toggleable__label sk-toggleable__label-arrow\">GridSearchCV</label><div class=\"sk-toggleable__content\"><pre>GridSearchCV(cv=4, estimator=KNeighborsClassifier(),\n",
       "             param_grid={&#x27;n_neighbors&#x27;: range(5, 50, 5), &#x27;p&#x27;: [1, 2],\n",
       "                         &#x27;weights&#x27;: [&#x27;uniform&#x27;, &#x27;distance&#x27;]},\n",
       "             verbose=4)</pre></div></div></div><div class=\"sk-parallel\"><div class=\"sk-parallel-item\"><div class=\"sk-item\"><div class=\"sk-label-container\"><div class=\"sk-label sk-toggleable\"><input class=\"sk-toggleable__control sk-hidden--visually\" id=\"sk-estimator-id-6\" type=\"checkbox\" ><label for=\"sk-estimator-id-6\" class=\"sk-toggleable__label sk-toggleable__label-arrow\">estimator: KNeighborsClassifier</label><div class=\"sk-toggleable__content\"><pre>KNeighborsClassifier()</pre></div></div></div><div class=\"sk-serial\"><div class=\"sk-item\"><div class=\"sk-estimator sk-toggleable\"><input class=\"sk-toggleable__control sk-hidden--visually\" id=\"sk-estimator-id-7\" type=\"checkbox\" ><label for=\"sk-estimator-id-7\" class=\"sk-toggleable__label sk-toggleable__label-arrow\">KNeighborsClassifier</label><div class=\"sk-toggleable__content\"><pre>KNeighborsClassifier()</pre></div></div></div></div></div></div></div></div></div></div>"
      ],
      "text/plain": [
       "GridSearchCV(cv=4, estimator=KNeighborsClassifier(),\n",
       "             param_grid={'n_neighbors': range(5, 50, 5), 'p': [1, 2],\n",
       "                         'weights': ['uniform', 'distance']},\n",
       "             verbose=4)"
      ]
     },
     "execution_count": 27,
     "metadata": {},
     "output_type": "execute_result"
    }
   ],
   "source": [
    "from sklearn.model_selection import GridSearchCV\n",
    "\n",
    "estimator = GridSearchCV(KNeighborsClassifier(), params_grid, cv=4, verbose=4)\n",
    "estimator.fit(X_train, y_train)"
   ]
  },
  {
   "cell_type": "code",
   "execution_count": 28,
   "id": "84f49e0e-1a13-4579-94a3-91495156d893",
   "metadata": {},
   "outputs": [
    {
     "name": "stdout",
     "output_type": "stream",
     "text": [
      "\u001b[32mClassification report for model KNeighborsClassifier on validation data\u001b[0m\n",
      "---------------------------------------------------------------------------------\n",
      "                  precision    recall  f1-score   support\n",
      "\n",
      "Cheap/Affordable       0.76      0.68      0.72       507\n",
      "       Expensive       0.73      0.76      0.74       543\n",
      "   Medium priced       0.57      0.60      0.58       538\n",
      "\n",
      "        accuracy                           0.68      1588\n",
      "       macro avg       0.69      0.68      0.68      1588\n",
      "    weighted avg       0.68      0.68      0.68      1588\n",
      "\n"
     ]
    }
   ],
   "source": [
    "best_model = estimator.best_estimator_\n",
    "report(best_model, X_val, y_val, \"validation\")"
   ]
  },
  {
   "cell_type": "code",
   "execution_count": 29,
   "id": "22f721cb-74da-423b-a2de-3b3f542724d8",
   "metadata": {},
   "outputs": [
    {
     "name": "stdout",
     "output_type": "stream",
     "text": [
      "\u001b[32mClassification report for model KNeighborsClassifier on test data\u001b[0m\n",
      "---------------------------------------------------------------------------------\n",
      "                  precision    recall  f1-score   support\n",
      "\n",
      "Cheap/Affordable       0.74      0.68      0.71       614\n",
      "       Expensive       0.73      0.78      0.75       663\n",
      "   Medium priced       0.60      0.60      0.60       708\n",
      "\n",
      "        accuracy                           0.69      1985\n",
      "       macro avg       0.69      0.69      0.69      1985\n",
      "    weighted avg       0.69      0.69      0.68      1985\n",
      "\n"
     ]
    }
   ],
   "source": [
    "report(best_model, X_test, y_test, \"test\")"
   ]
  },
  {
   "cell_type": "markdown",
   "id": "7a46472b-bfb5-47ca-874e-1c3a2ab2ccdd",
   "metadata": {},
   "source": [
    "Ovaj model se nije prilagodio, ali takodje daje losije rezultate u odnosu na malopre."
   ]
  },
  {
   "cell_type": "markdown",
   "id": "2b73b2e3-cf51-4a6e-ae60-514105e0fe84",
   "metadata": {},
   "source": [
    "# Ansambli"
   ]
  },
  {
   "cell_type": "code",
   "execution_count": 30,
   "id": "7230986f-860e-466e-a366-dbf8e2769078",
   "metadata": {},
   "outputs": [
    {
     "name": "stdout",
     "output_type": "stream",
     "text": [
      "\u001b[32mClassification report for model BaggingClassifier on training data\u001b[0m\n",
      "---------------------------------------------------------------------------------\n",
      "                  precision    recall  f1-score   support\n",
      "\n",
      "Cheap/Affordable       0.80      0.78      0.79      1925\n",
      "       Expensive       0.80      0.81      0.81      2142\n",
      "   Medium priced       0.71      0.72      0.71      2282\n",
      "\n",
      "        accuracy                           0.77      6349\n",
      "       macro avg       0.77      0.77      0.77      6349\n",
      "    weighted avg       0.77      0.77      0.77      6349\n",
      "\n",
      "\u001b[32mClassification report for model BaggingClassifier on test data\u001b[0m\n",
      "---------------------------------------------------------------------------------\n",
      "                  precision    recall  f1-score   support\n",
      "\n",
      "Cheap/Affordable       0.70      0.68      0.69       614\n",
      "       Expensive       0.69      0.73      0.71       663\n",
      "   Medium priced       0.56      0.54      0.55       708\n",
      "\n",
      "        accuracy                           0.65      1985\n",
      "       macro avg       0.65      0.65      0.65      1985\n",
      "    weighted avg       0.65      0.65      0.65      1985\n",
      "\n"
     ]
    }
   ],
   "source": [
    "from sklearn.ensemble import BaggingClassifier\n",
    "\n",
    "baggingKnn = BaggingClassifier(estimator=KNeighborsClassifier(), n_estimators=20)\n",
    "baggingKnn.fit(X_train, y_train)\n",
    "\n",
    "report(baggingKnn, X_train, y_train)\n",
    "report(baggingKnn, X_test, y_test, \"test\")\n"
   ]
  },
  {
   "cell_type": "markdown",
   "id": "a89ff169-a738-4b51-ae28-0990095dc9e6",
   "metadata": {},
   "source": [
    "U svakom slucaju, tacnost modela na test skupu ni u jednom trenutku nije presla 70%. "
   ]
  },
  {
   "cell_type": "markdown",
   "id": "6428736a-1b8f-48cf-af00-e5d17fbf96bf",
   "metadata": {},
   "source": [
    "# Poredjenje modela"
   ]
  },
  {
   "cell_type": "code",
   "execution_count": 31,
   "id": "c39e5fef-0b86-46ab-b174-17b5f2807259",
   "metadata": {},
   "outputs": [],
   "source": [
    "models = [knn, estimator, baggingKnn]\n",
    "model_names = [\"KNN\", \"GridSearchCV\", \"BaggingClassifier\"]\n",
    "colors = [\"green\", \"blue\", \"red\"]"
   ]
  },
  {
   "cell_type": "code",
   "execution_count": 32,
   "id": "28ce3e41-59ea-4699-811b-a8578cc2ac8f",
   "metadata": {},
   "outputs": [
    {
     "name": "stdout",
     "output_type": "stream",
     "text": [
      "Fitting 4 folds for each of 36 candidates, totalling 144 fits\n",
      "[CV 1/4] END n_neighbors=5, p=1, weights=uniform;, score=0.817 total time=   0.1s\n",
      "[CV 2/4] END n_neighbors=5, p=1, weights=uniform;, score=0.817 total time=   0.1s\n",
      "[CV 3/4] END n_neighbors=5, p=1, weights=uniform;, score=0.810 total time=   0.1s\n",
      "[CV 4/4] END n_neighbors=5, p=1, weights=uniform;, score=0.808 total time=   0.1s\n",
      "[CV 1/4] END n_neighbors=5, p=1, weights=distance;, score=0.827 total time=   0.0s\n",
      "[CV 2/4] END n_neighbors=5, p=1, weights=distance;, score=0.827 total time=   0.0s\n",
      "[CV 3/4] END n_neighbors=5, p=1, weights=distance;, score=0.812 total time=   0.0s\n",
      "[CV 4/4] END n_neighbors=5, p=1, weights=distance;, score=0.808 total time=   0.0s\n",
      "[CV 1/4] END n_neighbors=5, p=2, weights=uniform;, score=0.810 total time=   0.1s\n",
      "[CV 2/4] END n_neighbors=5, p=2, weights=uniform;, score=0.808 total time=   0.1s\n",
      "[CV 3/4] END n_neighbors=5, p=2, weights=uniform;, score=0.798 total time=   0.1s\n",
      "[CV 4/4] END n_neighbors=5, p=2, weights=uniform;, score=0.802 total time=   0.1s\n",
      "[CV 1/4] END n_neighbors=5, p=2, weights=distance;, score=0.820 total time=   0.0s\n",
      "[CV 2/4] END n_neighbors=5, p=2, weights=distance;, score=0.817 total time=   0.0s\n",
      "[CV 3/4] END n_neighbors=5, p=2, weights=distance;, score=0.803 total time=   0.0s\n",
      "[CV 4/4] END n_neighbors=5, p=2, weights=distance;, score=0.805 total time=   0.0s\n",
      "[CV 1/4] END n_neighbors=10, p=1, weights=uniform;, score=0.819 total time=   0.1s\n",
      "[CV 2/4] END n_neighbors=10, p=1, weights=uniform;, score=0.802 total time=   0.1s\n",
      "[CV 3/4] END n_neighbors=10, p=1, weights=uniform;, score=0.790 total time=   0.1s\n",
      "[CV 4/4] END n_neighbors=10, p=1, weights=uniform;, score=0.807 total time=   0.1s\n",
      "[CV 1/4] END n_neighbors=10, p=1, weights=distance;, score=0.832 total time=   0.0s\n",
      "[CV 2/4] END n_neighbors=10, p=1, weights=distance;, score=0.825 total time=   0.0s\n",
      "[CV 3/4] END n_neighbors=10, p=1, weights=distance;, score=0.811 total time=   0.0s\n",
      "[CV 4/4] END n_neighbors=10, p=1, weights=distance;, score=0.814 total time=   0.0s\n",
      "[CV 1/4] END n_neighbors=10, p=2, weights=uniform;, score=0.810 total time=   0.1s\n",
      "[CV 2/4] END n_neighbors=10, p=2, weights=uniform;, score=0.796 total time=   0.1s\n",
      "[CV 3/4] END n_neighbors=10, p=2, weights=uniform;, score=0.791 total time=   0.1s\n",
      "[CV 4/4] END n_neighbors=10, p=2, weights=uniform;, score=0.806 total time=   0.1s\n",
      "[CV 1/4] END n_neighbors=10, p=2, weights=distance;, score=0.830 total time=   0.0s\n",
      "[CV 2/4] END n_neighbors=10, p=2, weights=distance;, score=0.820 total time=   0.0s\n",
      "[CV 3/4] END n_neighbors=10, p=2, weights=distance;, score=0.809 total time=   0.0s\n",
      "[CV 4/4] END n_neighbors=10, p=2, weights=distance;, score=0.810 total time=   0.0s\n",
      "[CV 1/4] END n_neighbors=15, p=1, weights=uniform;, score=0.829 total time=   0.1s\n",
      "[CV 2/4] END n_neighbors=15, p=1, weights=uniform;, score=0.807 total time=   0.1s\n",
      "[CV 3/4] END n_neighbors=15, p=1, weights=uniform;, score=0.796 total time=   0.1s\n",
      "[CV 4/4] END n_neighbors=15, p=1, weights=uniform;, score=0.815 total time=   0.1s\n",
      "[CV 1/4] END n_neighbors=15, p=1, weights=distance;, score=0.832 total time=   0.0s\n",
      "[CV 2/4] END n_neighbors=15, p=1, weights=distance;, score=0.828 total time=   0.0s\n",
      "[CV 3/4] END n_neighbors=15, p=1, weights=distance;, score=0.818 total time=   0.0s\n",
      "[CV 4/4] END n_neighbors=15, p=1, weights=distance;, score=0.815 total time=   0.0s\n",
      "[CV 1/4] END n_neighbors=15, p=2, weights=uniform;, score=0.822 total time=   0.1s\n",
      "[CV 2/4] END n_neighbors=15, p=2, weights=uniform;, score=0.796 total time=   0.1s\n",
      "[CV 3/4] END n_neighbors=15, p=2, weights=uniform;, score=0.797 total time=   0.1s\n",
      "[CV 4/4] END n_neighbors=15, p=2, weights=uniform;, score=0.798 total time=   0.1s\n",
      "[CV 1/4] END n_neighbors=15, p=2, weights=distance;, score=0.831 total time=   0.0s\n",
      "[CV 2/4] END n_neighbors=15, p=2, weights=distance;, score=0.821 total time=   0.0s\n",
      "[CV 3/4] END n_neighbors=15, p=2, weights=distance;, score=0.814 total time=   0.0s\n",
      "[CV 4/4] END n_neighbors=15, p=2, weights=distance;, score=0.810 total time=   0.0s\n",
      "[CV 1/4] END n_neighbors=20, p=1, weights=uniform;, score=0.821 total time=   0.1s\n",
      "[CV 2/4] END n_neighbors=20, p=1, weights=uniform;, score=0.799 total time=   0.1s\n",
      "[CV 3/4] END n_neighbors=20, p=1, weights=uniform;, score=0.796 total time=   0.1s\n",
      "[CV 4/4] END n_neighbors=20, p=1, weights=uniform;, score=0.804 total time=   0.1s\n",
      "[CV 1/4] END n_neighbors=20, p=1, weights=distance;, score=0.833 total time=   0.0s\n",
      "[CV 2/4] END n_neighbors=20, p=1, weights=distance;, score=0.834 total time=   0.0s\n",
      "[CV 3/4] END n_neighbors=20, p=1, weights=distance;, score=0.815 total time=   0.0s\n",
      "[CV 4/4] END n_neighbors=20, p=1, weights=distance;, score=0.814 total time=   0.0s\n",
      "[CV 1/4] END n_neighbors=20, p=2, weights=uniform;, score=0.822 total time=   0.1s\n",
      "[CV 2/4] END n_neighbors=20, p=2, weights=uniform;, score=0.788 total time=   0.2s\n",
      "[CV 3/4] END n_neighbors=20, p=2, weights=uniform;, score=0.788 total time=   0.2s\n",
      "[CV 4/4] END n_neighbors=20, p=2, weights=uniform;, score=0.795 total time=   0.1s\n",
      "[CV 1/4] END n_neighbors=20, p=2, weights=distance;, score=0.837 total time=   0.0s\n",
      "[CV 2/4] END n_neighbors=20, p=2, weights=distance;, score=0.815 total time=   0.0s\n",
      "[CV 3/4] END n_neighbors=20, p=2, weights=distance;, score=0.812 total time=   0.0s\n",
      "[CV 4/4] END n_neighbors=20, p=2, weights=distance;, score=0.802 total time=   0.0s\n",
      "[CV 1/4] END n_neighbors=25, p=1, weights=uniform;, score=0.829 total time=   0.1s\n",
      "[CV 2/4] END n_neighbors=25, p=1, weights=uniform;, score=0.795 total time=   0.1s\n",
      "[CV 3/4] END n_neighbors=25, p=1, weights=uniform;, score=0.800 total time=   0.1s\n",
      "[CV 4/4] END n_neighbors=25, p=1, weights=uniform;, score=0.806 total time=   0.1s\n",
      "[CV 1/4] END n_neighbors=25, p=1, weights=distance;, score=0.839 total time=   0.0s\n",
      "[CV 2/4] END n_neighbors=25, p=1, weights=distance;, score=0.825 total time=   0.0s\n",
      "[CV 3/4] END n_neighbors=25, p=1, weights=distance;, score=0.818 total time=   0.0s\n",
      "[CV 4/4] END n_neighbors=25, p=1, weights=distance;, score=0.811 total time=   0.0s\n",
      "[CV 1/4] END n_neighbors=25, p=2, weights=uniform;, score=0.818 total time=   0.2s\n",
      "[CV 2/4] END n_neighbors=25, p=2, weights=uniform;, score=0.786 total time=   0.1s\n",
      "[CV 3/4] END n_neighbors=25, p=2, weights=uniform;, score=0.786 total time=   0.1s\n",
      "[CV 4/4] END n_neighbors=25, p=2, weights=uniform;, score=0.796 total time=   0.2s\n",
      "[CV 1/4] END n_neighbors=25, p=2, weights=distance;, score=0.834 total time=   0.0s\n",
      "[CV 2/4] END n_neighbors=25, p=2, weights=distance;, score=0.813 total time=   0.0s\n",
      "[CV 3/4] END n_neighbors=25, p=2, weights=distance;, score=0.815 total time=   0.0s\n",
      "[CV 4/4] END n_neighbors=25, p=2, weights=distance;, score=0.801 total time=   0.0s\n",
      "[CV 1/4] END n_neighbors=30, p=1, weights=uniform;, score=0.819 total time=   0.1s\n",
      "[CV 2/4] END n_neighbors=30, p=1, weights=uniform;, score=0.790 total time=   0.1s\n",
      "[CV 3/4] END n_neighbors=30, p=1, weights=uniform;, score=0.800 total time=   0.1s\n",
      "[CV 4/4] END n_neighbors=30, p=1, weights=uniform;, score=0.797 total time=   0.1s\n",
      "[CV 1/4] END n_neighbors=30, p=1, weights=distance;, score=0.834 total time=   0.0s\n",
      "[CV 2/4] END n_neighbors=30, p=1, weights=distance;, score=0.823 total time=   0.0s\n",
      "[CV 3/4] END n_neighbors=30, p=1, weights=distance;, score=0.817 total time=   0.0s\n",
      "[CV 4/4] END n_neighbors=30, p=1, weights=distance;, score=0.808 total time=   0.0s\n",
      "[CV 1/4] END n_neighbors=30, p=2, weights=uniform;, score=0.814 total time=   0.1s\n",
      "[CV 2/4] END n_neighbors=30, p=2, weights=uniform;, score=0.777 total time=   0.1s\n",
      "[CV 3/4] END n_neighbors=30, p=2, weights=uniform;, score=0.785 total time=   0.1s\n",
      "[CV 4/4] END n_neighbors=30, p=2, weights=uniform;, score=0.783 total time=   0.1s\n",
      "[CV 1/4] END n_neighbors=30, p=2, weights=distance;, score=0.834 total time=   0.0s\n",
      "[CV 2/4] END n_neighbors=30, p=2, weights=distance;, score=0.807 total time=   0.0s\n",
      "[CV 3/4] END n_neighbors=30, p=2, weights=distance;, score=0.812 total time=   0.0s\n",
      "[CV 4/4] END n_neighbors=30, p=2, weights=distance;, score=0.799 total time=   0.0s\n",
      "[CV 1/4] END n_neighbors=35, p=1, weights=uniform;, score=0.818 total time=   0.1s\n",
      "[CV 2/4] END n_neighbors=35, p=1, weights=uniform;, score=0.791 total time=   0.1s\n",
      "[CV 3/4] END n_neighbors=35, p=1, weights=uniform;, score=0.801 total time=   0.1s\n",
      "[CV 4/4] END n_neighbors=35, p=1, weights=uniform;, score=0.791 total time=   0.2s\n",
      "[CV 1/4] END n_neighbors=35, p=1, weights=distance;, score=0.835 total time=   0.0s\n",
      "[CV 2/4] END n_neighbors=35, p=1, weights=distance;, score=0.813 total time=   0.0s\n",
      "[CV 3/4] END n_neighbors=35, p=1, weights=distance;, score=0.818 total time=   0.0s\n",
      "[CV 4/4] END n_neighbors=35, p=1, weights=distance;, score=0.804 total time=   0.0s\n",
      "[CV 1/4] END n_neighbors=35, p=2, weights=uniform;, score=0.809 total time=   0.1s\n",
      "[CV 2/4] END n_neighbors=35, p=2, weights=uniform;, score=0.776 total time=   0.1s\n",
      "[CV 3/4] END n_neighbors=35, p=2, weights=uniform;, score=0.784 total time=   0.1s\n",
      "[CV 4/4] END n_neighbors=35, p=2, weights=uniform;, score=0.781 total time=   0.1s\n",
      "[CV 1/4] END n_neighbors=35, p=2, weights=distance;, score=0.833 total time=   0.0s\n",
      "[CV 2/4] END n_neighbors=35, p=2, weights=distance;, score=0.802 total time=   0.0s\n",
      "[CV 3/4] END n_neighbors=35, p=2, weights=distance;, score=0.813 total time=   0.0s\n",
      "[CV 4/4] END n_neighbors=35, p=2, weights=distance;, score=0.802 total time=   0.0s\n",
      "[CV 1/4] END n_neighbors=40, p=1, weights=uniform;, score=0.814 total time=   0.2s\n",
      "[CV 2/4] END n_neighbors=40, p=1, weights=uniform;, score=0.784 total time=   0.1s\n",
      "[CV 3/4] END n_neighbors=40, p=1, weights=uniform;, score=0.797 total time=   0.1s\n",
      "[CV 4/4] END n_neighbors=40, p=1, weights=uniform;, score=0.795 total time=   0.1s\n",
      "[CV 1/4] END n_neighbors=40, p=1, weights=distance;, score=0.835 total time=   0.0s\n",
      "[CV 2/4] END n_neighbors=40, p=1, weights=distance;, score=0.816 total time=   0.0s\n",
      "[CV 3/4] END n_neighbors=40, p=1, weights=distance;, score=0.820 total time=   0.0s\n",
      "[CV 4/4] END n_neighbors=40, p=1, weights=distance;, score=0.805 total time=   0.0s\n",
      "[CV 1/4] END n_neighbors=40, p=2, weights=uniform;, score=0.801 total time=   0.1s\n",
      "[CV 2/4] END n_neighbors=40, p=2, weights=uniform;, score=0.777 total time=   0.1s\n",
      "[CV 3/4] END n_neighbors=40, p=2, weights=uniform;, score=0.783 total time=   0.1s\n",
      "[CV 4/4] END n_neighbors=40, p=2, weights=uniform;, score=0.776 total time=   0.1s\n",
      "[CV 1/4] END n_neighbors=40, p=2, weights=distance;, score=0.834 total time=   0.0s\n",
      "[CV 2/4] END n_neighbors=40, p=2, weights=distance;, score=0.805 total time=   0.0s\n",
      "[CV 3/4] END n_neighbors=40, p=2, weights=distance;, score=0.813 total time=   0.0s\n",
      "[CV 4/4] END n_neighbors=40, p=2, weights=distance;, score=0.804 total time=   0.0s\n",
      "[CV 1/4] END n_neighbors=45, p=1, weights=uniform;, score=0.812 total time=   0.1s\n",
      "[CV 2/4] END n_neighbors=45, p=1, weights=uniform;, score=0.784 total time=   0.1s\n",
      "[CV 3/4] END n_neighbors=45, p=1, weights=uniform;, score=0.797 total time=   0.1s\n",
      "[CV 4/4] END n_neighbors=45, p=1, weights=uniform;, score=0.785 total time=   0.2s\n",
      "[CV 1/4] END n_neighbors=45, p=1, weights=distance;, score=0.834 total time=   0.1s\n",
      "[CV 2/4] END n_neighbors=45, p=1, weights=distance;, score=0.817 total time=   0.0s\n",
      "[CV 3/4] END n_neighbors=45, p=1, weights=distance;, score=0.817 total time=   0.0s\n",
      "[CV 4/4] END n_neighbors=45, p=1, weights=distance;, score=0.807 total time=   0.0s\n",
      "[CV 1/4] END n_neighbors=45, p=2, weights=uniform;, score=0.800 total time=   0.1s\n",
      "[CV 2/4] END n_neighbors=45, p=2, weights=uniform;, score=0.778 total time=   0.2s\n",
      "[CV 3/4] END n_neighbors=45, p=2, weights=uniform;, score=0.788 total time=   0.2s\n",
      "[CV 4/4] END n_neighbors=45, p=2, weights=uniform;, score=0.781 total time=   0.1s\n",
      "[CV 1/4] END n_neighbors=45, p=2, weights=distance;, score=0.832 total time=   0.0s\n",
      "[CV 2/4] END n_neighbors=45, p=2, weights=distance;, score=0.803 total time=   0.0s\n",
      "[CV 3/4] END n_neighbors=45, p=2, weights=distance;, score=0.813 total time=   0.0s\n",
      "[CV 4/4] END n_neighbors=45, p=2, weights=distance;, score=0.802 total time=   0.0s\n"
     ]
    },
    {
     "data": {
      "image/png": "[encoded data removed]",
      "text/plain": [
       "<Figure size 640x480 with 1 Axes>"
      ]
     },
     "metadata": {},
     "output_type": "display_data"
    }
   ],
   "source": [
    "\n",
    "\n",
    "from sklearn.metrics import roc_curve, auc\n",
    "\n",
    "\n",
    "# Choose Low-rated as the positive class\n",
    "pos_class = \"Cheap/Affordable\" \n",
    "\n",
    "# Combine the other two classes into a single negative class\n",
    "neg_class = [\"Medium Priced\", \"Expensive\"]\n",
    "\n",
    "# Convert labels to binary format\n",
    "y_train_bin = (y_train == pos_class).astype(int)\n",
    "y_test_bin = (y_test == pos_class).astype(int)\n",
    "\n",
    "plt.figure()\n",
    "for model, model_name, color in zip(models, model_names, colors):\n",
    "    # Train a classifier on the training data\n",
    "    model.fit(X_train, y_train_bin)\n",
    "    \n",
    "    # Make predictions on the test data\n",
    "    y_pred = model.predict_proba(X_test)[:, 1]\n",
    "    \n",
    "    # Compute ROC curve and area under the curve (AUC)\n",
    "    fpr, tpr, _ = roc_curve(y_test_bin, y_pred)\n",
    "    roc_auc = auc(fpr, tpr)\n",
    "    \n",
    "    # Plot the ROC curve\n",
    "    plt.plot(fpr, tpr, color=color, lw=2, label= model_name +'(AUC = %0.2f)' % roc_auc)\n",
    "    \n",
    "\n",
    "plt.xlim([0.0, 1.0])\n",
    "plt.ylim([0.0, 1.05])\n",
    "plt.xlabel('False Positive Rate')\n",
    "plt.ylabel('True Positive Rate')\n",
    "plt.title('ROC Curve - Low Rated')\n",
    "plt.legend(loc=\"lower right\")\n",
    "plt.show()\n"
   ]
  },
  {
   "cell_type": "markdown",
   "id": "19d6745e-99b2-4058-b21f-225581ef370f",
   "metadata": {},
   "source": [
    "Na grafikonu mozemo videti da, iako su GridSearch i Ensemble idejno sluzili za optimizaciju tacnosti modela, K najblizih suseda se pokazao kao najbolji model. "
   ]
  },
  {
   "cell_type": "code",
   "execution_count": 33,
   "id": "6abb74fe-256b-4c83-8b37-3dffe6d755a1",
   "metadata": {},
   "outputs": [],
   "source": [
    "\n",
    "\n",
    "# Exporting the data to other files (decision trees...)\n",
    "import pickle\n",
    "\n",
    "with open('data.pkl', 'wb') as f:\n",
    "    pickle.dump((X_train, X_test, y_train, y_test), f)\n",
    "\n"
   ]
  },
  {
   "cell_type": "code",
   "execution_count": null,
   "id": "ed46061c-1b1e-4199-bcd4-522b556ba604",
   "metadata": {},
   "outputs": [],
   "source": []
  }
 ],
 "metadata": {
  "kernelspec": {
   "display_name": "Python 3 (ipykernel)",
   "language": "python",
   "name": "python3"
  },
  "language_info": {
   "codemirror_mode": {
    "name": "ipython",
    "version": 3
   },
   "file_extension": ".py",
   "mimetype": "text/x-python",
   "name": "python",
   "nbconvert_exporter": "python",
   "pygments_lexer": "ipython3",
   "version": "3.10.12"
  }
 },
 "nbformat": 4,
 "nbformat_minor": 5
}
