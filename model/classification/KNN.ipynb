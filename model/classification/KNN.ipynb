{
 "cells": [
  {
   "cell_type": "markdown",
   "id": "82917f64-f2d9-4a90-8cab-ba31bd82a083",
   "metadata": {},
   "source": [
    "Ovo je prvi pokusaj KNN algoritma"
   ]
  },
  {
   "cell_type": "code",
   "execution_count": 1,
   "id": "3eda9ac2-35d1-4b42-a6d9-826841b12dd2",
   "metadata": {},
   "outputs": [],
   "source": [
    "import numpy as np\n",
    "import pandas as pd\n",
    "import matplotlib.pyplot as plt\n",
    "\n",
    "import os"
   ]
  },
  {
   "cell_type": "code",
   "execution_count": 2,
   "id": "6f076da1-1c78-4203-8463-3cdc1483c65a",
   "metadata": {},
   "outputs": [],
   "source": [
    "df = pd.read_csv('../../preprocessing/apartments_preprocessed.csv')"
   ]
  },
  {
   "cell_type": "code",
   "execution_count": 3,
   "id": "394db702-2108-4c48-9b53-a6de19f94f43",
   "metadata": {},
   "outputs": [
    {
     "data": {
      "text/html": [
       "<div>\n",
       "<style scoped>\n",
       "    .dataframe tbody tr th:only-of-type {\n",
       "        vertical-align: middle;\n",
       "    }\n",
       "\n",
       "    .dataframe tbody tr th {\n",
       "        vertical-align: top;\n",
       "    }\n",
       "\n",
       "    .dataframe thead th {\n",
       "        text-align: right;\n",
       "    }\n",
       "</style>\n",
       "<table border=\"1\" class=\"dataframe\">\n",
       "  <thead>\n",
       "    <tr style=\"text-align: right;\">\n",
       "      <th></th>\n",
       "      <th>bathrooms</th>\n",
       "      <th>bedrooms</th>\n",
       "      <th>price</th>\n",
       "      <th>square_meters</th>\n",
       "      <th>cityname</th>\n",
       "      <th>state</th>\n",
       "      <th>latitude</th>\n",
       "      <th>longitude</th>\n",
       "      <th>source</th>\n",
       "      <th>luxury</th>\n",
       "    </tr>\n",
       "  </thead>\n",
       "  <tbody>\n",
       "    <tr>\n",
       "      <th>0</th>\n",
       "      <td>1.0</td>\n",
       "      <td>0.0</td>\n",
       "      <td>790</td>\n",
       "      <td>9.393</td>\n",
       "      <td>Washington</td>\n",
       "      <td>DC</td>\n",
       "      <td>38.9057</td>\n",
       "      <td>-76.9861</td>\n",
       "      <td>RentLingo</td>\n",
       "      <td>0</td>\n",
       "    </tr>\n",
       "    <tr>\n",
       "      <th>1</th>\n",
       "      <td>1.0</td>\n",
       "      <td>1.0</td>\n",
       "      <td>425</td>\n",
       "      <td>9.858</td>\n",
       "      <td>Evansville</td>\n",
       "      <td>IN</td>\n",
       "      <td>37.9680</td>\n",
       "      <td>-87.6621</td>\n",
       "      <td>RentLingo</td>\n",
       "      <td>0</td>\n",
       "    </tr>\n",
       "    <tr>\n",
       "      <th>2</th>\n",
       "      <td>1.0</td>\n",
       "      <td>0.0</td>\n",
       "      <td>1390</td>\n",
       "      <td>9.951</td>\n",
       "      <td>Arlington</td>\n",
       "      <td>VA</td>\n",
       "      <td>38.8910</td>\n",
       "      <td>-77.0816</td>\n",
       "      <td>RentLingo</td>\n",
       "      <td>0</td>\n",
       "    </tr>\n",
       "    <tr>\n",
       "      <th>3</th>\n",
       "      <td>1.0</td>\n",
       "      <td>0.0</td>\n",
       "      <td>925</td>\n",
       "      <td>10.788</td>\n",
       "      <td>Seattle</td>\n",
       "      <td>WA</td>\n",
       "      <td>47.6160</td>\n",
       "      <td>-122.3275</td>\n",
       "      <td>RentLingo</td>\n",
       "      <td>0</td>\n",
       "    </tr>\n",
       "    <tr>\n",
       "      <th>4</th>\n",
       "      <td>1.0</td>\n",
       "      <td>0.0</td>\n",
       "      <td>880</td>\n",
       "      <td>11.625</td>\n",
       "      <td>Arlington</td>\n",
       "      <td>VA</td>\n",
       "      <td>38.8738</td>\n",
       "      <td>-77.1055</td>\n",
       "      <td>RentLingo</td>\n",
       "      <td>0</td>\n",
       "    </tr>\n",
       "  </tbody>\n",
       "</table>\n",
       "</div>"
      ],
      "text/plain": [
       "   bathrooms  bedrooms  price  square_meters    cityname state  latitude  \\\n",
       "0        1.0       0.0    790          9.393  Washington    DC   38.9057   \n",
       "1        1.0       1.0    425          9.858  Evansville    IN   37.9680   \n",
       "2        1.0       0.0   1390          9.951   Arlington    VA   38.8910   \n",
       "3        1.0       0.0    925         10.788     Seattle    WA   47.6160   \n",
       "4        1.0       0.0    880         11.625   Arlington    VA   38.8738   \n",
       "\n",
       "   longitude     source  luxury  \n",
       "0   -76.9861  RentLingo       0  \n",
       "1   -87.6621  RentLingo       0  \n",
       "2   -77.0816  RentLingo       0  \n",
       "3  -122.3275  RentLingo       0  \n",
       "4   -77.1055  RentLingo       0  "
      ]
     },
     "execution_count": 3,
     "metadata": {},
     "output_type": "execute_result"
    }
   ],
   "source": [
    "df.head()"
   ]
  },
  {
   "cell_type": "code",
   "execution_count": 5,
   "id": "82e12477-79cb-4fe3-9adc-7f8d64688a18",
   "metadata": {},
   "outputs": [],
   "source": [
    "from sklearn.model_selection import train_test_split"
   ]
  },
  {
   "cell_type": "code",
   "execution_count": 7,
   "id": "84d74d17-6bec-4ec1-a8ac-34f8fdb5f9b4",
   "metadata": {},
   "outputs": [
    {
     "data": {
      "text/plain": [
       "count     9922.000000\n",
       "mean      1481.016831\n",
       "std        948.711174\n",
       "min        200.000000\n",
       "25%        949.000000\n",
       "50%       1270.000000\n",
       "75%       1695.000000\n",
       "max      25000.000000\n",
       "Name: price, dtype: float64"
      ]
     },
     "execution_count": 7,
     "metadata": {},
     "output_type": "execute_result"
    }
   ],
   "source": []
  },
  {
   "cell_type": "markdown",
   "id": "ccce747f-1ba2-49bd-a9e6-e048efed943c",
   "metadata": {},
   "source": [
    "KNN je algoritam koji koristi mere bliskosti da bi klasifikovao instance. Ono sto ja zelim je da procenim cenu apartmana, ali tako sto cu objekte kategorisati:\n"
   ]
  },
  {
   "cell_type": "code",
   "execution_count": null,
   "id": "9867698e-5fb8-4076-8ce9-e1086b9747ee",
   "metadata": {},
   "outputs": [],
   "source": []
  }
 ],
 "metadata": {
  "kernelspec": {
   "display_name": "Python 3 (ipykernel)",
   "language": "python",
   "name": "python3"
  },
  "language_info": {
   "codemirror_mode": {
    "name": "ipython",
    "version": 3
   },
   "file_extension": ".py",
   "mimetype": "text/x-python",
   "name": "python",
   "nbconvert_exporter": "python",
   "pygments_lexer": "ipython3",
   "version": "3.10.12"
  }
 },
 "nbformat": 4,
 "nbformat_minor": 5
}
